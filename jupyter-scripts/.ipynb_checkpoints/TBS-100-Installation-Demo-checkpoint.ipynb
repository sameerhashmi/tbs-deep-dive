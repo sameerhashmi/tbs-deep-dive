{
 "cells": [
  {
   "cell_type": "markdown",
   "metadata": {},
   "source": [
    "# Tanzu Build Service (TBS) - Level 100 - Installation & Demo"
   ]
  },
  {
   "cell_type": "markdown",
   "metadata": {},
   "source": [
    "# Agenda:\n",
    "\n",
    " - <a href=#install>Installation of TBS</a>\n",
    " - <a href=#validate>Validate and Create a Project in K8s cluster using TBS</a>\n",
    " - <a href=#configure>Configure and Test Application using TBS</a>\n"
   ]
  },
  {
   "cell_type": "markdown",
   "metadata": {},
   "source": [
    "\n",
    "## <a name='install'/>Installation of Tanzu Build Service\n",
    "\n",
    "These are two setups to get a kickstart. With the automated version, just fill out the configuration of your environment and run the command. The manual step is more towards following the Official documentation.\n",
    "\n",
    "- <a href=#auto>Automated Setup</a>\n",
    "- <a href=#manual>Manual Setup</a>"
   ]
  },
  {
   "cell_type": "markdown",
   "metadata": {},
   "source": [
    "### <a name='auto'/>Automated - Using pbsetup on GKE"
   ]
  },
  {
   "cell_type": "markdown",
   "metadata": {},
   "source": [
    "Use the following steps to setup Tanzu Build Service: https://github.com/mcnichol/build-service-lab"
   ]
  },
  {
   "cell_type": "markdown",
   "metadata": {},
   "source": [
    "### <a name='manual'/>Manual Setup"
   ]
  },
  {
   "cell_type": "markdown",
   "metadata": {},
   "source": [
    "In this setup, we will be using TKGI environment running on GCP provisioned by [Tanzu Toolsmith](https://environments.toolsmiths.cf-app.com/).\n",
    "\n",
    "- <a href=#validate-pks>Validate PKS Environment</a>\n",
    "- <a href=#tbs-pvc>Create PVC for Build Service</a>\n",
    "- <a href=#tbs-bits>Prerequisites & Setup for Tanzu Build Service</a>\n",
    "- <a href=#tbs-install>Install Tanzu Build Service</a>\n"
   ]
  },
  {
   "cell_type": "markdown",
   "metadata": {},
   "source": [
    "#### <a name='validate-pks'/>Validate K8s Environment\n",
    "\n",
    "Login to your PKS environment:"
   ]
  },
  {
   "cell_type": "code",
   "execution_count": 1,
   "metadata": {},
   "outputs": [
    {
     "name": "stdout",
     "output_type": "stream",
     "text": [
      "\n",
      "API Endpoint: api.pks.ferndale.cf-app.com\n",
      "User: admin\n",
      "Login successful.\n",
      "\n"
     ]
    }
   ],
   "source": [
    "!pks login -u admin -p mEPoeWXsXC75IIP64dvbQUO4CEL-Xytr -a api.pks.ferndale.cf-app.com -k"
   ]
  },
  {
   "cell_type": "code",
   "execution_count": 2,
   "metadata": {},
   "outputs": [
    {
     "name": "stdout",
     "output_type": "stream",
     "text": [
      "\n",
      "Name   ID                                    Description\n",
      "small  8A0E21A8-8072-4D80-B365-D1F502085560  Example: This plan will configure a lightweight kubernetes cluster. Not recommended for production workloads.\n",
      "\n"
     ]
    }
   ],
   "source": [
    "!pks plans"
   ]
  },
  {
   "cell_type": "code",
   "execution_count": 4,
   "metadata": {},
   "outputs": [
    {
     "name": "stdout",
     "output_type": "stream",
     "text": [
      "\n",
      "PKS Version     Name                    k8s Version  Plan Name  UUID                                  Status       Action\n",
      "1.7.0-build.26  ferndale-pks-cluster-1  1.16.7       small      3c55c309-c9d8-4d07-a973-c0dc7491b9b9  succeeded    CREATE\n",
      "1.7.0-build.26  tbs-cluster             1.16.7       small      68fec0f2-b8db-4e83-b419-cceaa3717102  in progress  DELETE\n",
      "\n"
     ]
    }
   ],
   "source": [
    "!pks clusters"
   ]
  },
  {
   "cell_type": "code",
   "execution_count": null,
   "metadata": {},
   "outputs": [],
   "source": [
    "!pks create-cluster tbs-cluster --external-hostname tbs-cluster.ferndale.cf-app.com --plan small"
   ]
  },
  {
   "cell_type": "code",
   "execution_count": 5,
   "metadata": {},
   "outputs": [
    {
     "name": "stdout",
     "output_type": "stream",
     "text": [
      "\n",
      "Fetching credentials for cluster ferndale-pks-cluster-1.\n",
      "Context set for cluster ferndale-pks-cluster-1.\n",
      "\n",
      "You can now switch between clusters by using:\n",
      "$kubectl config use-context <cluster-name>\n"
     ]
    }
   ],
   "source": [
    "!pks get-credentials ferndale-pks-cluster-1"
   ]
  },
  {
   "cell_type": "code",
   "execution_count": 6,
   "metadata": {},
   "outputs": [
    {
     "name": "stdout",
     "output_type": "stream",
     "text": [
      "\n",
      "PKS Version:              1.7.0-build.26\n",
      "Name:                     ferndale-pks-cluster-1\n",
      "K8s Version:              1.16.7\n",
      "Plan Name:                small\n",
      "UUID:                     3c55c309-c9d8-4d07-a973-c0dc7491b9b9\n",
      "Last Action:              CREATE\n",
      "Last Action State:        succeeded\n",
      "Last Action Description:  Instance provisioning completed\n",
      "Kubernetes Master Host:   cluster-1.ferndale.cf-app.com\n",
      "Kubernetes Master Port:   8443\n",
      "Worker Nodes:             3\n",
      "Kubernetes Master IP(s):  10.0.11.10\n",
      "Network Profile Name:     \n",
      "\n"
     ]
    }
   ],
   "source": [
    "!pks cluster ferndale-pks-cluster-1"
   ]
  },
  {
   "cell_type": "code",
   "execution_count": 8,
   "metadata": {},
   "outputs": [
    {
     "name": "stdout",
     "output_type": "stream",
     "text": [
      "NAMESPACE     NAME                                                              READY   STATUS      RESTARTS   AGE\r\n",
      "kube-system   coredns-5b6649768f-5tfd5                                          1/1     Running     0          24h\r\n",
      "kube-system   coredns-5b6649768f-j4vfx                                          1/1     Running     0          24h\r\n",
      "kube-system   coredns-5b6649768f-vtwfq                                          1/1     Running     0          24h\r\n",
      "kube-system   metrics-server-5d9d8b9889-vjfkk                                   1/1     Running     0          24h\r\n",
      "node-todo     i-ode-todo-latest-d6d3ca66d11b48f4115ee0cc41b71fb49ac-build-pod   0/1     Completed   0          108m\r\n",
      "pks-system    cert-generator-1311f65a5dfa4bf6774ba070152672eacdb3e6b2-mgsp5     0/1     Completed   0          24h\r\n",
      "pks-system    event-controller-6969f56f88-l76d6                                 2/2     Running     0          24h\r\n",
      "pks-system    fluent-bit-hnb99                                                  2/2     Running     0          24h\r\n",
      "pks-system    fluent-bit-jjb5r                                                  2/2     Running     0          24h\r\n",
      "pks-system    fluent-bit-wmtgx                                                  2/2     Running     0          24h\r\n",
      "pks-system    metric-controller-5dfd968d6f-gftb9                                1/1     Running     0          24h\r\n",
      "pks-system    observability-manager-6487c9fbf9-fbln4                            1/1     Running     0          24h\r\n",
      "pks-system    sink-controller-7799b4f4d7-tr5nh                                  1/1     Running     0          24h\r\n",
      "pks-system    telegraf-gnx76                                                    1/1     Running     0          24h\r\n",
      "pks-system    telegraf-hfkdm                                                    1/1     Running     0          24h\r\n",
      "pks-system    telegraf-nt6wf                                                    1/1     Running     0          24h\r\n",
      "pks-system    telemetry-agent-778fc8997d-2h6fs                                  2/2     Running     0          24h\r\n",
      "pks-system    validator-5787b98d57-zr77j                                        1/1     Running     0          24h\r\n"
     ]
    }
   ],
   "source": [
    "!kubectl get po -A"
   ]
  },
  {
   "cell_type": "markdown",
   "metadata": {},
   "source": [
    "#### <a name='tbs-pvc'/>Create Persistent Volume and Claim for TBS"
   ]
  },
  {
   "cell_type": "markdown",
   "metadata": {},
   "source": [
    "Persistent Volume:\n",
    "\n",
    "apiVersion: storage.k8s.io/v1\n",
    "kind: StorageClass\n",
    "metadata:\n",
    "  name: fast\n",
    "  annotations:\n",
    "    storageclass.kubernetes.io/is-default-class: \"true\"\n",
    "provisioner: kubernetes.io/vsphere-volume\n",
    "parameters:\n",
    "  datastore: datastore1\n",
    "  diskformat: thin\n",
    "  fstype: ext3\n"
   ]
  },
  {
   "cell_type": "raw",
   "metadata": {},
   "source": [
    "Persistent Volume Claim leveraging the above volume:\n",
    "\n",
    "kind: PersistentVolumeClaim\n",
    "apiVersion: v1\n",
    "metadata:\n",
    "  name: pvcsc001\n",
    "  annotations:\n",
    "    volume.beta.kubernetes.io/storage-class: fast\n",
    "spec:\n",
    "  accessModes:\n",
    "    - ReadWriteOnce\n",
    "  resources:\n",
    "    requests:\n",
    "      storage: 2Gi\n"
   ]
  },
  {
   "cell_type": "code",
   "execution_count": null,
   "metadata": {},
   "outputs": [],
   "source": [
    "!pwd"
   ]
  },
  {
   "cell_type": "code",
   "execution_count": null,
   "metadata": {},
   "outputs": [],
   "source": [
    "!kubectl get StorageClasses"
   ]
  },
  {
   "cell_type": "code",
   "execution_count": null,
   "metadata": {},
   "outputs": [],
   "source": [
    "!kubectl apply -f tmp/tbs-pcv.yaml"
   ]
  },
  {
   "cell_type": "code",
   "execution_count": null,
   "metadata": {},
   "outputs": [],
   "source": [
    "!kubectl get pv"
   ]
  },
  {
   "cell_type": "code",
   "execution_count": null,
   "metadata": {},
   "outputs": [],
   "source": [
    "!kubectl get pvc"
   ]
  },
  {
   "cell_type": "markdown",
   "metadata": {},
   "source": [
    "#### <a name='tbs-bits'/>Prerequisites & Setup for Tanzu Build Service\n"
   ]
  },
  {
   "cell_type": "markdown",
   "metadata": {},
   "source": [
    "##### Login to https://network.pivotal.io and download the following:\n",
    "\n",
    "    - Tanzu Build Service: build-service-0.1.0.tgz\n",
    "    - Duffle\n",
    "    - PB CLI\n",
    "    - Login to Docker Registry\n",
    "    \n",
    "    Steps to install CLIs\n",
    "\n",
    "    - rename duffle-0.0.4-darwin to duffle\n",
    "    - rename pb-0.1.0-darwin to pb\n",
    "    - chmod +x duffle\n",
    "    - chmod +x pb\n",
    "    - mv duffle /usr/local/bin\n",
    "    - mv pb /usr/local/bin"
   ]
  },
  {
   "cell_type": "code",
   "execution_count": null,
   "metadata": {},
   "outputs": [],
   "source": [
    "!duffle version"
   ]
  },
  {
   "cell_type": "code",
   "execution_count": null,
   "metadata": {},
   "outputs": [],
   "source": [
    "!pb version"
   ]
  },
  {
   "cell_type": "code",
   "execution_count": 11,
   "metadata": {},
   "outputs": [
    {
     "name": "stdout",
     "output_type": "stream",
     "text": [
      "README.md        \u001b[1m\u001b[36mimg\u001b[m\u001b[m/             \u001b[1m\u001b[36mtmp\u001b[m\u001b[m/\r\n",
      "\u001b[1m\u001b[36mconfig\u001b[m\u001b[m/          \u001b[1m\u001b[36mjupyter-scripts\u001b[m\u001b[m/\r\n"
     ]
    }
   ],
   "source": [
    "ls ../"
   ]
  },
  {
   "cell_type": "markdown",
   "metadata": {},
   "source": [
    "##### Build Tanzu Build Service - credentials files\n",
    "\n",
    "The credential.yml file is already built and for index.docker.io, we don't need to add the CA Cert. Also in the repo, we have added another credentials.yml as an example for harbor."
   ]
  },
  {
   "cell_type": "code",
   "execution_count": 17,
   "metadata": {},
   "outputs": [
    {
     "name": "stdout",
     "output_type": "stream",
     "text": [
      "name: build-service-credentials\r\n",
      "credentials:\r\n",
      "  - name: kube_config\r\n",
      "    source:\r\n",
      "      path: \"/Users/shashmi/.kube/config\"\r\n",
      "    destination:\r\n",
      "      path: \"/root/.kube/config\"\r\n"
     ]
    }
   ],
   "source": [
    "cat ../tmp/build-service-credentials.yml"
   ]
  },
  {
   "cell_type": "markdown",
   "metadata": {},
   "source": [
    "##### Login to Docker Registry and push Tanzu Build Service Bundle to Docker Hub\n",
    "\n",
    "For this example we are using index.docker.io"
   ]
  },
  {
   "cell_type": "code",
   "execution_count": 18,
   "metadata": {},
   "outputs": [
    {
     "name": "stdout",
     "output_type": "stream",
     "text": [
      "Authenticating with existing credentials...\n",
      "Login Succeeded\n"
     ]
    }
   ],
   "source": [
    "!docker login docker.io"
   ]
  },
  {
   "cell_type": "markdown",
   "metadata": {},
   "source": [
    "Push the TBS Bundle to docker hub using the below command:\n",
    "\n",
    "duffle relocate -f build-service-0.1.0.tgz -m relocated.json -p index.docker.io/<username>\n",
    "\n",
    "Give the **path** where you have downloaded build-service-0.1.0.tgz or run it from that location"
   ]
  },
  {
   "cell_type": "code",
   "execution_count": null,
   "metadata": {},
   "outputs": [],
   "source": [
    "!duffle relocate -f ./tmp/build-service-0.1.0.tgz -m ./tmp/relocated.json --repository-prefix=sameerhashmi"
   ]
  },
  {
   "cell_type": "markdown",
   "metadata": {},
   "source": [
    "Once you run the above command, **relocated.json** will be created and a builder package will be created inside your DockerHub Repository."
   ]
  },
  {
   "cell_type": "markdown",
   "metadata": {},
   "source": [
    "![HARBOR-Buildservice](../img/dockerhub-snapshot.png)"
   ]
  },
  {
   "cell_type": "markdown",
   "metadata": {},
   "source": [
    "#### <a name='tbs-install'/>Install Build Service"
   ]
  },
  {
   "cell_type": "markdown",
   "metadata": {},
   "source": [
    "Create a credentials.yml file with your kube confiog information and CA certs for registry"
   ]
  },
  {
   "cell_type": "code",
   "execution_count": 20,
   "metadata": {},
   "outputs": [
    {
     "name": "stdout",
     "output_type": "stream",
     "text": [
      "name: build-service-credentials\r\n",
      "credentials:\r\n",
      "  - name: kube_config\r\n",
      "    source:\r\n",
      "      path: \"/Users/shashmi/.kube/config\"\r\n",
      "    destination:\r\n",
      "      path: \"/root/.kube/config\"\r\n"
     ]
    }
   ],
   "source": [
    "cat ../tmp/build-service-credentials.yml"
   ]
  },
  {
   "cell_type": "markdown",
   "metadata": {},
   "source": [
    "#### As above in the directory above where you have the following:\n",
    "\n",
    "- build-service-credentials.yml\n",
    "- buildserver tar file (build-service.0.1.0.tgz)\n",
    "- relocated.json (generated in the above steps)\n",
    "\n",
    "Fill out the remaining as per your environment and run the duffle command:\n",
    "\n",
    "\n",
    "duffle install pbs-demo -c ./tmp/build-service-credentials.yml  \\\n",
    "    --set kubernetes_env=<k8s-cluster-name> \\\n",
    "    --set docker_registry=<DOCKER_REGISTRY> \\\n",
    "    --set docker_repository=<DOCKER_REPO> \\\n",
    "    --set registry_username=<REGISTYRY_USER_NAME> \\\n",
    "    --set registry_password=<REGISTYRY_PASSWORD> \\\n",
    "    --set custom_builder_image=default-builder \\\n",
    "    -f ./tmp/build-service-0.1.0.tgz \\\n",
    "    -m ./tmp/relocated.json\n",
    "\n",
    "\n",
    "Avoiding duffle error: claim already exists\n",
    "If an install fails or if you prefer to reset your Kubernetes cluster rather than uninstalling, you can remove existing duffle claims by deleting the files in ~/.duffle/claims. This will allow you to re-install without encountering the “claim already exists” error.\n",
    "\n"
   ]
  },
  {
   "cell_type": "code",
   "execution_count": 32,
   "metadata": {},
   "outputs": [
    {
     "name": "stdout",
     "output_type": "stream",
     "text": [
      "Error: untar failed: unexpected EOF\r\n"
     ]
    }
   ],
   "source": [
    "!duffle install pbs-demo -c ./tmp/build-service-credentials.yml  \\\n",
    "    --set kubernetes_env=ferndale-pks-cluster-1 \\\n",
    "    --set docker_registry=index.docker.io \\\n",
    "    --set docker_repository=index.docker.io/sameerhashmi \\\n",
    "    --set registry_username=\"sameerhashmi\" \\\n",
    "    --set registry_password=\"aa59054b-a169-4398-93c8-b2219a4ef734\" \\\n",
    "    --set custom_builder_image=sameerhashmi/default-builder \\\n",
    "    -f ./tmp/build-service-0.1.0.tgz \\\n",
    "    -m ./tmp/relocated.json"
   ]
  },
  {
   "cell_type": "markdown",
   "metadata": {},
   "source": [
    "If the duffle claim exisits, you might have to remove it and run the above command again."
   ]
  },
  {
   "cell_type": "code",
   "execution_count": 23,
   "metadata": {},
   "outputs": [
    {
     "name": "stdout",
     "output_type": "stream",
     "text": [
      "rm: /Users/shashmi/.duffle/claims/pbs-demo.json: No such file or directory\r\n"
     ]
    }
   ],
   "source": [
    "rm ~/.duffle/claims/pbs-demo.json"
   ]
  },
  {
   "cell_type": "code",
   "execution_count": 35,
   "metadata": {},
   "outputs": [
    {
     "name": "stdout",
     "output_type": "stream",
     "text": [
      "NAME               STATUS   AGE\r\n",
      "build-service      Active   28s\r\n",
      "default            Active   25h\r\n",
      "kpack              Active   28s\r\n",
      "kube-node-lease    Active   25h\r\n",
      "kube-public        Active   25h\r\n",
      "kube-system        Active   25h\r\n",
      "node-todo          Active   18s\r\n",
      "pks-system         Active   25h\r\n",
      "project-operator   Active   28s\r\n"
     ]
    }
   ],
   "source": [
    "!kubectl get ns"
   ]
  },
  {
   "cell_type": "markdown",
   "metadata": {},
   "source": [
    "## <a name='validate'/> Validate and Create a Project in K8s cluster using TBS</a>\n",
    "\n",
    "- Validate TBS Build\n",
    "- Create Project in TBS\n"
   ]
  },
  {
   "cell_type": "code",
   "execution_count": 36,
   "metadata": {},
   "outputs": [
    {
     "name": "stdout",
     "output_type": "stream",
     "text": [
      "CLI Version: 0.1.0 (e9b0e13a)\r\n"
     ]
    }
   ],
   "source": [
    "!pb version"
   ]
  },
  {
   "cell_type": "code",
   "execution_count": 37,
   "metadata": {},
   "outputs": [
    {
     "name": "stdout",
     "output_type": "stream",
     "text": [
      "Stack ID:    org.cloudfoundry.stacks.cflinuxfs3\r\n",
      "Run Image:   docker.io/sameerhashmi/tbs-dependencies-run-fa566eed03f50368e2ff40858f61b6d5@sha256:e64856ed89a096486c9bce1590414ccb7d81542bbf56dc68e5477cf09abb3523\r\n",
      "Build Image: docker.io/sameerhashmi/tbs-dependencies-build-adb6d35d10815f4cc483514bca657e8c@sha256:111ab5e7ab965dc43d839dbc02413f2fcfac784b407d8b4808d9c905080b8d65\r\n"
     ]
    }
   ],
   "source": [
    "!pb stack status"
   ]
  },
  {
   "cell_type": "code",
   "execution_count": 38,
   "metadata": {},
   "outputs": [
    {
     "name": "stdout",
     "output_type": "stream",
     "text": [
      "docker.io/sameerhashmi/tbs-dependencies-iopivotaljava-0730e66a380a80f8e40e4d814dd3c4c2@sha256:24dda610b7772cbce580296c4ad2c80510c8363ae2b3614458fb76c664c34393\r\n",
      "    - io.pivotal.appdynamics@1.2.15\r\n",
      "    - io.pivotal.aspectj@1.1.12\r\n",
      "    - io.pivotal.azureapplicationinsights@1.1.12\r\n",
      "    - io.pivotal.buildsystem@1.1.15\r\n",
      "    - io.pivotal.caintroscope@1.1.12\r\n",
      "    - io.pivotal.clientcertificatemapper@1.1.12\r\n",
      "    - io.pivotal.containersecurityprovider@1.1.11\r\n",
      "    - io.pivotal.contrastsecurity@0.2.18\r\n",
      "    - io.pivotal.debug@1.2.11\r\n",
      "    - io.pivotal.distzip@1.1.12\r\n",
      "    - io.pivotal.dynatrace@0.1.12\r\n",
      "    - io.pivotal.elasticapm@1.1.13\r\n",
      "    - io.pivotal.gemalto@1.1.11\r\n",
      "    - io.pivotal.googlestackdriver@1.1.11\r\n",
      "    - io.pivotal.groovy@1.1.14\r\n",
      "    - io.pivotal.jacoco@1.1.11\r\n",
      "    - io.pivotal.java@v2.1.272\r\n",
      "    - io.pivotal.jdbc@1.1.13\r\n",
      "    - io.pivotal.jmx@1.1.12\r\n",
      "    - io.pivotal.jprofiler@1.1.13\r\n",
      "    - io.pivotal.jrebel@1.1.11\r\n",
      "    - io.pivotal.jvmapplication@1.1.13\r\n",
      "    - io.pivotal.newrelic@1.1.16\r\n",
      "    - io.pivotal.openjdk@1.2.14\r\n",
      "    - io.pivotal.overops@1.1.12\r\n",
      "    - io.pivotal.procfile@1.1.13\r\n",
      "    - io.pivotal.qualys@0.1.12\r\n",
      "    - io.pivotal.riverbedappinternals@1.1.12\r\n",
      "    - io.pivotal.skywalking@1.1.12\r\n",
      "    - io.pivotal.snyk@1.1.12\r\n",
      "    - io.pivotal.springautoreconfiguration@1.1.12\r\n",
      "    - io.pivotal.springboot@1.3.14\r\n",
      "    - io.pivotal.synopsys@1.2.1\r\n",
      "    - io.pivotal.tomcat@1.3.18\r\n",
      "    - io.pivotal.wso2@0.1.12\r\n",
      "    - io.pivotal.yourkit@1.1.11\r\n",
      "docker.io/sameerhashmi/tbs-dependencies-iopivotalnodejs-99672f05d6de3e327c2271a75573ebbd@sha256:9036375d8196b2e4b85430fa6a57533fca82b6b703bf5e3c33b813862552339e\r\n",
      "    - io.pivotal.appdynamics@1.2.14\r\n",
      "    - io.pivotal.contrastsecurity@0.2.17\r\n",
      "    - io.pivotal.elasticapm@1.1.12\r\n",
      "    - io.pivotal.newrelic@1.1.15\r\n",
      "    - io.pivotal.nodejs@v2.0.7\r\n",
      "    - io.pivotal.packit-dynatrace@0.0.50\r\n",
      "    - io.pivotal.snyk@1.1.12\r\n",
      "    - io.pivotal.synopsys@1.2.1\r\n",
      "    - org.cloudfoundry.node-engine@0.0.163\r\n",
      "    - org.cloudfoundry.npm@0.1.3\r\n",
      "    - org.cloudfoundry.yarn-install@0.1.8\r\n",
      "docker.io/sameerhashmi/tbs-dependencies-orgcloudfoundrydotnet-core-33a0be864823d3fe8dc1eb5748a75dd5@sha256:3040b85387892618745f403f6ec56dc27bcedf79ad1e2f3e284dbd187bb0f26e\r\n",
      "    - org.cloudfoundry.dotnet-core-aspnet@0.0.118\r\n",
      "    - org.cloudfoundry.dotnet-core-build@0.0.68\r\n",
      "    - org.cloudfoundry.dotnet-core-conf@0.0.115\r\n",
      "    - org.cloudfoundry.dotnet-core-runtime@0.0.127\r\n",
      "    - org.cloudfoundry.dotnet-core-sdk@0.0.122\r\n",
      "    - org.cloudfoundry.dotnet-core@v0.0.6\r\n",
      "    - org.cloudfoundry.icu@0.0.43\r\n",
      "    - org.cloudfoundry.node-engine@0.0.158\r\n",
      "docker.io/sameerhashmi/tbs-dependencies-orgcloudfoundrygo-a6cfc491c0fb9f773e0f134cbcbbf253@sha256:7a0990e6a803d2de78fca9286106a8b39e0b1467e59ae39639565c5b6fdc95f4\r\n",
      "    - org.cloudfoundry.dep@0.0.100\r\n",
      "    - org.cloudfoundry.go-compiler@0.0.99\r\n",
      "    - org.cloudfoundry.go-mod@0.0.86\r\n",
      "    - org.cloudfoundry.go@v0.0.3\r\n",
      "docker.io/sameerhashmi/tbs-dependencies-orgcloudfoundryhttpd-ac59d6711b3cf751db264096b3b37bc4@sha256:2af7dbffbee10e85ac0b279efae29052e6a1e4413d8dc781651ec22500f6aeb4\r\n",
      "    - org.cloudfoundry.httpd@0.0.21\r\n",
      "docker.io/sameerhashmi/tbs-dependencies-orgcloudfoundrynginx-da453c5e7a4c5b663ec80f8a3616086b@sha256:c4b946176136099bb222c496483130a4357fb09ab9c0e306288a20eb0d4d06c3\r\n",
      "    - org.cloudfoundry.nginx@0.0.25\r\n",
      "docker.io/sameerhashmi/tbs-dependencies-orgcloudfoundryphp-4af5bbe7bf7c138e8e07d077603edfd3@sha256:ca978f8cdd11afc6aab1d38396e34daa9546a51019ce0660409238d10fb12205\r\n",
      "    - org.cloudfoundry.httpd@0.0.21\r\n",
      "    - org.cloudfoundry.nginx@0.0.25\r\n",
      "    - org.cloudfoundry.php-composer@0.0.16\r\n",
      "    - org.cloudfoundry.php-dist@0.0.30\r\n",
      "    - org.cloudfoundry.php-web@0.0.24\r\n",
      "    - org.cloudfoundry.php@v0.0.0-RC1\r\n",
      "docker.io/sameerhashmi/tbs-dependencies-orgcloudfoundrypython-c087aa5a901f1793071d401a258ca63b@sha256:5e8c3821367bf766fc7710efdf42fa37f9384cfbd185b4bea6d9c066c33a19a2\r\n",
      "    - org.cloudfoundry.conda@0.0.37\r\n",
      "    - org.cloudfoundry.pip@0.0.53\r\n",
      "    - org.cloudfoundry.pipenv@0.0.38\r\n",
      "    - org.cloudfoundry.python-runtime@0.0.57\r\n",
      "    - org.cloudfoundry.python@v0.0.1\r\n"
     ]
    }
   ],
   "source": [
    "!pb store list"
   ]
  },
  {
   "cell_type": "markdown",
   "metadata": {},
   "source": [
    "### Create a project in TBS\n",
    "\n",
    "Creating a project will also create a namespace in your Kubernetes cluster where your local image will run. "
   ]
  },
  {
   "cell_type": "code",
   "execution_count": 39,
   "metadata": {},
   "outputs": [
    {
     "name": "stdout",
     "output_type": "stream",
     "text": [
      "Projects\r\n",
      "--------\r\n"
     ]
    }
   ],
   "source": [
    "!pb project list"
   ]
  },
  {
   "cell_type": "code",
   "execution_count": 123,
   "metadata": {},
   "outputs": [
    {
     "name": "stdout",
     "output_type": "stream",
     "text": [
      "\r\n",
      "ERROR: Failed to create project: admission webhook \"project.projects.pivotal.io\" denied the request: cannot create project over existing namespace 'node-todo'\r\n",
      "Error: admission webhook \"project.projects.pivotal.io\" denied the request: cannot create project over existing namespace 'node-todo'\r\n",
      "Usage:\r\n",
      "  pb project create <project-name> [flags]\r\n",
      "\r\n",
      "Flags:\r\n",
      "  -h, --help   help for create\r\n",
      "\r\n",
      "\r\n"
     ]
    }
   ],
   "source": [
    "!pb project create node-todo"
   ]
  },
  {
   "cell_type": "code",
   "execution_count": 124,
   "metadata": {},
   "outputs": [
    {
     "name": "stdout",
     "output_type": "stream",
     "text": [
      "NAME               STATUS   AGE\r\n",
      "build-service      Active   87m\r\n",
      "default            Active   27h\r\n",
      "kpack              Active   87m\r\n",
      "kube-node-lease    Active   27h\r\n",
      "kube-public        Active   27h\r\n",
      "kube-system        Active   27h\r\n",
      "node-todo          Active   87m\r\n",
      "pks-system         Active   27h\r\n",
      "project-operator   Active   87m\r\n",
      "spring-music       Active   12m\r\n",
      "spring-petclinic   Active   36m\r\n"
     ]
    }
   ],
   "source": [
    "!kubectl get ns"
   ]
  },
  {
   "cell_type": "markdown",
   "metadata": {},
   "source": [
    "Target the Project:\n",
    "\n",
    "By targeting, this means that all subsequent pb commands will be against this project, including configuring secrets and adding users. \n"
   ]
  },
  {
   "cell_type": "code",
   "execution_count": 125,
   "metadata": {},
   "outputs": [
    {
     "name": "stdout",
     "output_type": "stream",
     "text": [
      "Successfully set 'node-todo' as target. Subsequent commands will assume you are targeting 'node-todo'.\r\n"
     ]
    }
   ],
   "source": [
    "!pb project target node-todo"
   ]
  },
  {
   "cell_type": "markdown",
   "metadata": {},
   "source": [
    "## <a name='configure'/>Configure and Test Application using TBS</a>"
   ]
  },
  {
   "cell_type": "markdown",
   "metadata": {},
   "source": [
    "For demo purpose, we will first fork a spring-petclinic repository so that we can commit and push changes to github. Once configured with Tanzu Build Service, it will start building as soon any changes are made to the repo and push it to your configured docker registry\n",
    "\n",
    "- Fork the repo https://github.com/migmartri/node-todo and clone it.\n",
    "- Configure Secrets\n",
    "- Configure Image on TBS\n",
    "- Validate and Test\n"
   ]
  },
  {
   "cell_type": "code",
   "execution_count": 127,
   "metadata": {},
   "outputs": [
    {
     "name": "stdout",
     "output_type": "stream",
     "text": [
      "/Users/shashmi/workspace/TANZU/TBS\n"
     ]
    }
   ],
   "source": [
    "cd ../../"
   ]
  },
  {
   "cell_type": "code",
   "execution_count": 128,
   "metadata": {},
   "outputs": [
    {
     "name": "stdout",
     "output_type": "stream",
     "text": [
      "\u001b[1m\u001b[36mbuild-service-lab\u001b[m\u001b[m/ \u001b[1m\u001b[36mspring-music\u001b[m\u001b[m/      \u001b[1m\u001b[36mspring-petclinic\u001b[m\u001b[m/  \u001b[1m\u001b[36mtbs-deep-dive\u001b[m\u001b[m/\r\n"
     ]
    }
   ],
   "source": [
    "ls"
   ]
  },
  {
   "cell_type": "code",
   "execution_count": 129,
   "metadata": {},
   "outputs": [
    {
     "name": "stdout",
     "output_type": "stream",
     "text": [
      "Cloning into 'node-todo'...\n",
      "remote: Enumerating objects: 10, done.\u001b[K\n",
      "remote: Counting objects: 100% (10/10), done.\u001b[K\n",
      "remote: Compressing objects: 100% (10/10), done.\u001b[K\n",
      "remote: Total 658 (delta 0), reused 5 (delta 0), pack-reused 648\u001b[K\n",
      "Receiving objects: 100% (658/658), 85.01 KiB | 743.00 KiB/s, done.\n",
      "Resolving deltas: 100% (257/257), done.\n"
     ]
    }
   ],
   "source": [
    "!git clone https://github.com/sameerhashmi/node-todo.git"
   ]
  },
  {
   "cell_type": "code",
   "execution_count": 130,
   "metadata": {},
   "outputs": [
    {
     "name": "stdout",
     "output_type": "stream",
     "text": [
      "/Users/shashmi/workspace/TANZU/TBS/node-todo\n"
     ]
    }
   ],
   "source": [
    "cd node-todo"
   ]
  },
  {
   "cell_type": "markdown",
   "metadata": {},
   "source": [
    "### Configure Secrets\n",
    "\n",
    "TBS will communicate to your version control system and your image registry. In this step we will create configurations and pass these credentials to Tanzu Build Service using the pb secrets command.\n",
    "\n",
    " - Github Repo\n",
    " - Docker Hub \n",
    " \n",
    " These will apply the secrets to the project targeted. In our case, spring-petclinic"
   ]
  },
  {
   "cell_type": "code",
   "execution_count": null,
   "metadata": {},
   "outputs": [],
   "source": [
    "mkdir tbs-config"
   ]
  },
  {
   "cell_type": "markdown",
   "metadata": {},
   "source": [
    "Create two Files:\n",
    "\n",
    "1 - Docker Hub Config name \"dockerhub-config.yml\" and fill in the details:\n",
    "\n",
    "project: spring-petclinic\n",
    "registry: https://index.docker.io/v1/\n",
    "username: <username>\n",
    "password: <password-or-token>\n",
    "    \n",
    "    \n",
    "2 - Github Config name \"github-config.yml\" and fill in the details:    \n",
    "\n",
    "project: spring-petclinic\n",
    "repository: github.com/sameerhashmi/spring-petclinic\n",
    "username: <username>\n",
    "password: <password-or-token>\n",
    "    "
   ]
  },
  {
   "cell_type": "code",
   "execution_count": 101,
   "metadata": {},
   "outputs": [
    {
     "name": "stdout",
     "output_type": "stream",
     "text": [
      "project: spring-music\r\n",
      "registry: https://index.docker.io/v1/\r\n",
      "username: sameerhashmi\r\n",
      "password: aa59054b-a169-4398-93c8-b2219a4ef734\r\n"
     ]
    }
   ],
   "source": [
    "cat ./config/dockerhub-config.yml"
   ]
  },
  {
   "cell_type": "code",
   "execution_count": 102,
   "metadata": {},
   "outputs": [
    {
     "name": "stdout",
     "output_type": "stream",
     "text": [
      "project: spring-music\r\n",
      "repository: github.com/sameerhashmi/spring-music\r\n",
      "username: sameerhashmi\r\n",
      "password: 92e978c852f75a508fcbafaaf2541b7fe0998bf4\r\n"
     ]
    }
   ],
   "source": [
    "cat ./config/github-config.yml"
   ]
  },
  {
   "cell_type": "code",
   "execution_count": 76,
   "metadata": {},
   "outputs": [
    {
     "name": "stdout",
     "output_type": "stream",
     "text": [
      "Secret commands\r\n",
      "\r\n",
      "Usage:\r\n",
      "  pb secrets [command]\r\n",
      "\r\n",
      "Available Commands:\r\n",
      "  git         Secret image git commands\r\n",
      "  registry    Secret image registry commands\r\n",
      "\r\n",
      "Flags:\r\n",
      "  -h, --help   help for secrets\r\n",
      "\r\n",
      "Use \"pb secrets [command] --help\" for more information about a command.\r\n"
     ]
    }
   ],
   "source": [
    "!pb secrets"
   ]
  },
  {
   "cell_type": "code",
   "execution_count": 103,
   "metadata": {},
   "outputs": [
    {
     "name": "stdout",
     "output_type": "stream",
     "text": [
      "Successfully created git secret for 'github.com/sameerhashmi/spring-music' in project 'spring-music'\r\n"
     ]
    }
   ],
   "source": [
    "!pb secrets git apply -f ./config/github-config.yml"
   ]
  },
  {
   "cell_type": "code",
   "execution_count": 104,
   "metadata": {},
   "outputs": [
    {
     "name": "stdout",
     "output_type": "stream",
     "text": [
      "Successfully created registry secret for 'https://index.docker.io/v1/' in project 'spring-music'\r\n"
     ]
    }
   ],
   "source": [
    "!pb secrets registry apply -f ./config/dockerhub-config.yml"
   ]
  },
  {
   "cell_type": "markdown",
   "metadata": {},
   "source": [
    "### Configure an Image"
   ]
  },
  {
   "cell_type": "markdown",
   "metadata": {},
   "source": [
    "\n",
    "Final step is to configure Tanzu Build Service about what code we want to monitor and build. \n",
    "\n",
    "We will add another configuration for TBS to know which App it needs to build.\n",
    "\n",
    "Create a configuration named spring-petclinic-config.yml and fill in the details:\n",
    "\n",
    "source:\n",
    "  git:\n",
    "    url: <github-url>\n",
    "    revision: master\n",
    "image:\n",
    "  tag: <docker-registry-url>\n"
   ]
  },
  {
   "cell_type": "code",
   "execution_count": 106,
   "metadata": {},
   "outputs": [
    {
     "name": "stdout",
     "output_type": "stream",
     "text": [
      "source:\r\n",
      "  git:\r\n",
      "    url: https://github.com/sameerhashmi/spring-music\r\n",
      "    revision: master\r\n",
      "image:\r\n",
      "  tag: index.docker.io/sameerhashmi/spring-music\r\n"
     ]
    }
   ],
   "source": [
    "cat ./config/spring-music-config.yml"
   ]
  },
  {
   "cell_type": "markdown",
   "metadata": {},
   "source": [
    "Once the image configuration has been applied, Tanzu Build Service will scan the repo and start building your image. You can see this happening by running the pb command below to list all of the builds associated with an image tag. "
   ]
  },
  {
   "cell_type": "code",
   "execution_count": 108,
   "metadata": {},
   "outputs": [
    {
     "name": "stdout",
     "output_type": "stream",
     "text": [
      "Successfully applied image configuration 'index.docker.io/sameerhashmi/spring-music' in project 'spring-music'\r\n"
     ]
    }
   ],
   "source": [
    "!pb image apply -f config/spring-music-config.yml"
   ]
  },
  {
   "cell_type": "code",
   "execution_count": 122,
   "metadata": {},
   "outputs": [
    {
     "name": "stdout",
     "output_type": "stream",
     "text": [
      "Build    Status      Started Time           Finished Time    Reason    Digest\r\n",
      "-----    ------      ------------           -------------    ------    ------\r\n",
      "    1    BUILDING    2020-06-09 17:16:04    --               CONFIG    --\r\n",
      "\r\n"
     ]
    }
   ],
   "source": [
    "!pb image builds index.docker.io/sameerhashmi/spring-music"
   ]
  },
  {
   "cell_type": "markdown",
   "metadata": {},
   "source": [
    "Verify the image in index.docker.io/sameerhashmi"
   ]
  },
  {
   "cell_type": "code",
   "execution_count": 121,
   "metadata": {},
   "outputs": [
    {
     "name": "stdout",
     "output_type": "stream",
     "text": [
      "Image\r\n",
      "-----\r\n",
      "Status:          BUILDING\r\n",
      "Message:         N/A\r\n",
      "Latest Image:    N/A\r\n",
      "\r\n",
      "Last Successful Build\r\n",
      "---------------------\r\n",
      "ID:        N/A\r\n",
      "Reason:    N/A\r\n",
      "\r\n",
      "Last Failed Build\r\n",
      "-----------------\r\n",
      "ID:        N/A\r\n",
      "Reason:    N/A\r\n"
     ]
    }
   ],
   "source": [
    "!pb image status index.docker.io/sameerhashmi/spring-music"
   ]
  },
  {
   "cell_type": "code",
   "execution_count": 116,
   "metadata": {},
   "outputs": [
    {
     "name": "stdout",
     "output_type": "stream",
     "text": [
      "Project: spring-music\r\n",
      "\r\n",
      "Images\r\n",
      "------\r\n",
      "index.docker.io/sameerhashmi/spring-music:latest\r\n"
     ]
    }
   ],
   "source": [
    "!pb image list"
   ]
  },
  {
   "cell_type": "code",
   "execution_count": 117,
   "metadata": {},
   "outputs": [
    {
     "name": "stdout",
     "output_type": "stream",
     "text": [
      "Projects\r\n",
      "--------\r\n",
      "spring-music\r\n",
      "spring-petclinic\r\n"
     ]
    }
   ],
   "source": [
    "!pb project list"
   ]
  },
  {
   "cell_type": "code",
   "execution_count": null,
   "metadata": {},
   "outputs": [],
   "source": []
  },
  {
   "cell_type": "code",
   "execution_count": null,
   "metadata": {},
   "outputs": [],
   "source": []
  },
  {
   "cell_type": "code",
   "execution_count": null,
   "metadata": {},
   "outputs": [],
   "source": []
  },
  {
   "cell_type": "code",
   "execution_count": null,
   "metadata": {},
   "outputs": [],
   "source": []
  },
  {
   "cell_type": "code",
   "execution_count": null,
   "metadata": {},
   "outputs": [],
   "source": []
  },
  {
   "cell_type": "code",
   "execution_count": null,
   "metadata": {},
   "outputs": [],
   "source": []
  },
  {
   "cell_type": "code",
   "execution_count": null,
   "metadata": {},
   "outputs": [],
   "source": []
  },
  {
   "cell_type": "code",
   "execution_count": null,
   "metadata": {},
   "outputs": [],
   "source": []
  },
  {
   "cell_type": "code",
   "execution_count": null,
   "metadata": {},
   "outputs": [],
   "source": []
  },
  {
   "cell_type": "code",
   "execution_count": null,
   "metadata": {},
   "outputs": [],
   "source": []
  },
  {
   "cell_type": "code",
   "execution_count": null,
   "metadata": {},
   "outputs": [],
   "source": []
  },
  {
   "cell_type": "code",
   "execution_count": null,
   "metadata": {},
   "outputs": [],
   "source": []
  },
  {
   "cell_type": "code",
   "execution_count": null,
   "metadata": {},
   "outputs": [],
   "source": []
  },
  {
   "cell_type": "code",
   "execution_count": null,
   "metadata": {},
   "outputs": [],
   "source": []
  },
  {
   "cell_type": "code",
   "execution_count": null,
   "metadata": {},
   "outputs": [],
   "source": []
  },
  {
   "cell_type": "code",
   "execution_count": null,
   "metadata": {},
   "outputs": [],
   "source": []
  }
 ],
 "metadata": {
  "kernelspec": {
   "display_name": "Python 3",
   "language": "python",
   "name": "python3"
  },
  "language_info": {
   "codemirror_mode": {
    "name": "ipython",
    "version": 3
   },
   "file_extension": ".py",
   "mimetype": "text/x-python",
   "name": "python",
   "nbconvert_exporter": "python",
   "pygments_lexer": "ipython3",
   "version": "3.7.4"
  }
 },
 "nbformat": 4,
 "nbformat_minor": 2
}
