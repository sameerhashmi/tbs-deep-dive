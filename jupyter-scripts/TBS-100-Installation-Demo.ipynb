{
 "cells": [
  {
   "cell_type": "markdown",
   "metadata": {},
   "source": [
    "# Tanzu Build Service (TBS) - Level 100 - Installation & Demo"
   ]
  },
  {
   "cell_type": "markdown",
   "metadata": {},
   "source": [
    "# Agenda:\n",
    "\n",
    " - <a href=#install>Installation of TBS</a>\n",
    " - <a href=#validate>Validate and Create a Project in K8s cluster using TBS</a>\n",
    " - <a href=#configure>Configure and Test Application using TBS</a>\n"
   ]
  },
  {
   "cell_type": "markdown",
   "metadata": {},
   "source": [
    "\n",
    "## <a name='install'/>Installation of Tanzu Build Service\n",
    "\n",
    "These are two setups to get a kickstart. With the automated version, just fill out the configuration of your environment and run the command. The manual step is more towards following the Official documentation.\n",
    "\n",
    "- <a href=#auto>Automated Setup</a>\n",
    "- <a href=#manual>Manual Setup</a>"
   ]
  },
  {
   "cell_type": "markdown",
   "metadata": {},
   "source": [
    "### <a name='auto'/>Automated - Using pbsetup on GKE"
   ]
  },
  {
   "cell_type": "markdown",
   "metadata": {},
   "source": [
    "Use the following steps to setup Tanzu Build Service: https://github.com/mcnichol/build-service-lab"
   ]
  },
  {
   "cell_type": "markdown",
   "metadata": {},
   "source": [
    "### <a name='manual'/>Manual Setup"
   ]
  },
  {
   "cell_type": "markdown",
   "metadata": {},
   "source": [
    "In this setup, we will be using TKGI environment running on GCP provisioned by [Tanzu Toolsmith](https://environments.toolsmiths.cf-app.com/).\n",
    "\n",
    "- <a href=#validate-pks>Validate PKS Environment</a>\n",
    "- <a href=#tbs-pvc>Create PVC for Build Service</a>\n",
    "- <a href=#tbs-bits>Prerequisites & Setup for Tanzu Build Service</a>\n",
    "- <a href=#tbs-install>Install Tanzu Build Service</a>\n"
   ]
  },
  {
   "cell_type": "markdown",
   "metadata": {},
   "source": [
    "#### <a name='validate-pks'/>Validate K8s Environment\n",
    "\n",
    "Login to your PKS environment:"
   ]
  },
  {
   "cell_type": "code",
   "execution_count": null,
   "metadata": {},
   "outputs": [],
   "source": [
    "!pks login -u admin -p mEPoeWXsXC75IIP64dvbQUO4CEL-Xytr -a api.pks.ferndale.cf-app.com -k"
   ]
  },
  {
   "cell_type": "code",
   "execution_count": null,
   "metadata": {},
   "outputs": [],
   "source": [
    "!pks plans"
   ]
  },
  {
   "cell_type": "code",
   "execution_count": null,
   "metadata": {},
   "outputs": [],
   "source": [
    "!pks clusters"
   ]
  },
  {
   "cell_type": "code",
   "execution_count": null,
   "metadata": {},
   "outputs": [],
   "source": [
    "!pks create-cluster tbs-cluster --external-hostname tbs-cluster.ferndale.cf-app.com --plan small"
   ]
  },
  {
   "cell_type": "code",
   "execution_count": null,
   "metadata": {},
   "outputs": [],
   "source": [
    "!pks get-credentials ferndale-pks-cluster-1"
   ]
  },
  {
   "cell_type": "code",
   "execution_count": null,
   "metadata": {},
   "outputs": [],
   "source": [
    "!pks cluster ferndale-pks-cluster-1"
   ]
  },
  {
   "cell_type": "code",
   "execution_count": null,
   "metadata": {},
   "outputs": [],
   "source": [
    "!kubectl get po -A"
   ]
  },
  {
   "cell_type": "markdown",
   "metadata": {},
   "source": [
    "#### <a name='tbs-pvc'/>Create Persistent Volume and Claim for TBS"
   ]
  },
  {
   "cell_type": "markdown",
   "metadata": {},
   "source": [
    "Persistent Volume:\n",
    "\n",
    "apiVersion: storage.k8s.io/v1\n",
    "kind: StorageClass\n",
    "metadata:\n",
    "  name: fast\n",
    "  annotations:\n",
    "    storageclass.kubernetes.io/is-default-class: \"true\"\n",
    "provisioner: kubernetes.io/vsphere-volume\n",
    "parameters:\n",
    "  datastore: datastore1\n",
    "  diskformat: thin\n",
    "  fstype: ext3\n"
   ]
  },
  {
   "cell_type": "raw",
   "metadata": {},
   "source": [
    "Persistent Volume Claim leveraging the above volume:\n",
    "\n",
    "kind: PersistentVolumeClaim\n",
    "apiVersion: v1\n",
    "metadata:\n",
    "  name: pvcsc001\n",
    "  annotations:\n",
    "    volume.beta.kubernetes.io/storage-class: fast\n",
    "spec:\n",
    "  accessModes:\n",
    "    - ReadWriteOnce\n",
    "  resources:\n",
    "    requests:\n",
    "      storage: 2Gi\n"
   ]
  },
  {
   "cell_type": "code",
   "execution_count": null,
   "metadata": {},
   "outputs": [],
   "source": [
    "!pwd"
   ]
  },
  {
   "cell_type": "code",
   "execution_count": null,
   "metadata": {},
   "outputs": [],
   "source": [
    "!kubectl get StorageClasses"
   ]
  },
  {
   "cell_type": "code",
   "execution_count": null,
   "metadata": {},
   "outputs": [],
   "source": [
    "!kubectl apply -f tmp/tbs-pcv.yaml"
   ]
  },
  {
   "cell_type": "code",
   "execution_count": null,
   "metadata": {},
   "outputs": [],
   "source": [
    "!kubectl get pv"
   ]
  },
  {
   "cell_type": "code",
   "execution_count": null,
   "metadata": {},
   "outputs": [],
   "source": [
    "!kubectl get pvc"
   ]
  },
  {
   "cell_type": "markdown",
   "metadata": {},
   "source": [
    "#### <a name='tbs-bits'/>Prerequisites & Setup for Tanzu Build Service\n"
   ]
  },
  {
   "cell_type": "markdown",
   "metadata": {},
   "source": [
    "##### Login to https://network.pivotal.io and download the following:\n",
    "\n",
    "    - Tanzu Build Service: build-service-0.1.0.tgz\n",
    "    - Duffle\n",
    "    - PB CLI\n",
    "    - Login to Docker Registry\n",
    "    \n",
    "    Steps to install CLIs\n",
    "\n",
    "    - rename duffle-0.0.4-darwin to duffle\n",
    "    - rename pb-0.1.0-darwin to pb\n",
    "    - chmod +x duffle\n",
    "    - chmod +x pb\n",
    "    - mv duffle /usr/local/bin\n",
    "    - mv pb /usr/local/bin"
   ]
  },
  {
   "cell_type": "code",
   "execution_count": null,
   "metadata": {},
   "outputs": [],
   "source": [
    "!duffle version"
   ]
  },
  {
   "cell_type": "code",
   "execution_count": null,
   "metadata": {},
   "outputs": [],
   "source": [
    "!pb version"
   ]
  },
  {
   "cell_type": "code",
   "execution_count": null,
   "metadata": {},
   "outputs": [],
   "source": [
    "ls ../"
   ]
  },
  {
   "cell_type": "markdown",
   "metadata": {},
   "source": [
    "##### Build Tanzu Build Service - credentials files\n",
    "\n",
    "The credential.yml file is already built and for index.docker.io, we don't need to add the CA Cert. Also in the repo, we have added another credentials.yml as an example for harbor."
   ]
  },
  {
   "cell_type": "code",
   "execution_count": null,
   "metadata": {},
   "outputs": [],
   "source": [
    "cat ../tmp/build-service-credentials.yml"
   ]
  },
  {
   "cell_type": "markdown",
   "metadata": {},
   "source": [
    "##### Login to Docker Registry and push Tanzu Build Service Bundle to Docker Hub\n",
    "\n",
    "For this example we are using index.docker.io"
   ]
  },
  {
   "cell_type": "code",
   "execution_count": null,
   "metadata": {},
   "outputs": [],
   "source": [
    "!docker login docker.io"
   ]
  },
  {
   "cell_type": "markdown",
   "metadata": {},
   "source": [
    "Push the TBS Bundle to docker hub using the below command:\n",
    "\n",
    "duffle relocate -f build-service-0.1.0.tgz -m relocated.json -p index.docker.io/<username>\n",
    "\n",
    "Give the **path** where you have downloaded build-service-0.1.0.tgz or run it from that location"
   ]
  },
  {
   "cell_type": "code",
   "execution_count": null,
   "metadata": {},
   "outputs": [],
   "source": [
    "!duffle relocate -f ./tmp/build-service-0.1.0.tgz -m ./tmp/relocated.json --repository-prefix=sameerhashmi"
   ]
  },
  {
   "cell_type": "markdown",
   "metadata": {},
   "source": [
    "Once you run the above command, **relocated.json** will be created and a builder package will be created inside your DockerHub Repository."
   ]
  },
  {
   "cell_type": "markdown",
   "metadata": {},
   "source": [
    "![HARBOR-Buildservice](img/dockerhub-snapshot.png)"
   ]
  },
  {
   "cell_type": "markdown",
   "metadata": {},
   "source": [
    "#### <a name='tbs-install'/>Install Build Service"
   ]
  },
  {
   "cell_type": "markdown",
   "metadata": {},
   "source": [
    "Create a credentials.yml file with your kube confiog information and CA certs for registry"
   ]
  },
  {
   "cell_type": "code",
   "execution_count": null,
   "metadata": {},
   "outputs": [],
   "source": [
    "cat ../tmp/build-service-credentials.yml"
   ]
  },
  {
   "cell_type": "markdown",
   "metadata": {},
   "source": [
    "#### As above in the directory above where you have the following:\n",
    "\n",
    "- build-service-credentials.yml\n",
    "- buildserver tar file (build-service.0.1.0.tgz)\n",
    "- relocated.json (generated in the above steps)\n",
    "\n",
    "Fill out the remaining as per your environment and run the duffle command:\n",
    "\n",
    "\n",
    "duffle install pbs-demo -c ./tmp/build-service-credentials.yml  \\\n",
    "    --set kubernetes_env=<k8s-cluster-name> \\\n",
    "    --set docker_registry=<DOCKER_REGISTRY> \\\n",
    "    --set docker_repository=<DOCKER_REPO> \\\n",
    "    --set registry_username=<REGISTYRY_USER_NAME> \\\n",
    "    --set registry_password=<REGISTYRY_PASSWORD> \\\n",
    "    --set custom_builder_image=default-builder \\\n",
    "    -f ./tmp/build-service-0.1.0.tgz \\\n",
    "    -m ./tmp/relocated.json\n",
    "\n",
    "\n",
    "Avoiding duffle error: claim already exists\n",
    "If an install fails or if you prefer to reset your Kubernetes cluster rather than uninstalling, you can remove existing duffle claims by deleting the files in ~/.duffle/claims. This will allow you to re-install without encountering the “claim already exists” error.\n",
    "\n"
   ]
  },
  {
   "cell_type": "code",
   "execution_count": null,
   "metadata": {},
   "outputs": [],
   "source": [
    "!duffle install pbs-demo -c ./tmp/build-service-credentials.yml  \\\n",
    "    --set kubernetes_env=ferndale-pks-cluster-1 \\\n",
    "    --set docker_registry=index.docker.io \\\n",
    "    --set docker_repository=index.docker.io/sameerhashmi \\\n",
    "    --set registry_username=\"sameerhashmi\" \\\n",
    "    --set registry_password=\"aa59054b-a169-4398-93c8-b2219a4ef734\" \\\n",
    "    --set custom_builder_image=sameerhashmi/default-builder \\\n",
    "    -f ./tmp/build-service-0.1.0.tgz \\\n",
    "    -m ./tmp/relocated.json"
   ]
  },
  {
   "cell_type": "markdown",
   "metadata": {},
   "source": [
    "If the duffle claim exisits, you might have to remove it and run the above command again."
   ]
  },
  {
   "cell_type": "code",
   "execution_count": null,
   "metadata": {},
   "outputs": [],
   "source": [
    "rm ~/.duffle/claims/pbs-demo.json"
   ]
  },
  {
   "cell_type": "code",
   "execution_count": null,
   "metadata": {},
   "outputs": [],
   "source": [
    "!kubectl get ns"
   ]
  },
  {
   "cell_type": "markdown",
   "metadata": {},
   "source": [
    "## <a name='validate'/> Validate and Create a Project in K8s cluster using TBS</a>\n",
    "\n",
    "- Validate TBS Build\n",
    "- Create Project in TBS\n"
   ]
  },
  {
   "cell_type": "code",
   "execution_count": null,
   "metadata": {},
   "outputs": [],
   "source": [
    "!pb version"
   ]
  },
  {
   "cell_type": "code",
   "execution_count": null,
   "metadata": {},
   "outputs": [],
   "source": [
    "!pb stack status"
   ]
  },
  {
   "cell_type": "code",
   "execution_count": null,
   "metadata": {},
   "outputs": [],
   "source": [
    "!pb store list"
   ]
  },
  {
   "cell_type": "markdown",
   "metadata": {},
   "source": [
    "### Create a project in TBS\n",
    "\n",
    "Creating a project will also create a namespace in your Kubernetes cluster where your local image will run. "
   ]
  },
  {
   "cell_type": "code",
   "execution_count": null,
   "metadata": {},
   "outputs": [],
   "source": [
    "!pb project list"
   ]
  },
  {
   "cell_type": "code",
   "execution_count": null,
   "metadata": {},
   "outputs": [],
   "source": [
    "!pb project create node-todo"
   ]
  },
  {
   "cell_type": "code",
   "execution_count": null,
   "metadata": {},
   "outputs": [],
   "source": [
    "!kubectl get ns"
   ]
  },
  {
   "cell_type": "markdown",
   "metadata": {},
   "source": [
    "Target the Project:\n",
    "\n",
    "By targeting, this means that all subsequent pb commands will be against this project, including configuring secrets and adding users. \n"
   ]
  },
  {
   "cell_type": "code",
   "execution_count": null,
   "metadata": {},
   "outputs": [],
   "source": [
    "!pb project target node-todo"
   ]
  },
  {
   "cell_type": "markdown",
   "metadata": {},
   "source": [
    "## <a name='configure'/>Configure and Test Application using TBS</a>"
   ]
  },
  {
   "cell_type": "markdown",
   "metadata": {},
   "source": [
    "For demo purpose, we will first fork a spring-petclinic repository so that we can commit and push changes to github. Once configured with Tanzu Build Service, it will start building as soon any changes are made to the repo and push it to your configured docker registry\n",
    "\n",
    "- Fork the repo https://github.com/migmartri/node-todo and clone it.\n",
    "- Configure Secrets\n",
    "- Configure Image on TBS\n",
    "- Validate and Test\n"
   ]
  },
  {
   "cell_type": "code",
   "execution_count": null,
   "metadata": {},
   "outputs": [],
   "source": [
    "cd ../../"
   ]
  },
  {
   "cell_type": "code",
   "execution_count": null,
   "metadata": {},
   "outputs": [],
   "source": [
    "ls"
   ]
  },
  {
   "cell_type": "code",
   "execution_count": null,
   "metadata": {},
   "outputs": [],
   "source": [
    "!git clone https://github.com/sameerhashmi/node-todo.git"
   ]
  },
  {
   "cell_type": "code",
   "execution_count": null,
   "metadata": {},
   "outputs": [],
   "source": [
    "cd node-todo"
   ]
  },
  {
   "cell_type": "markdown",
   "metadata": {},
   "source": [
    "### Configure Secrets\n",
    "\n",
    "TBS will communicate to your version control system and your image registry. In this step we will create configurations and pass these credentials to Tanzu Build Service using the pb secrets command.\n",
    "\n",
    " - Github Repo\n",
    " - Docker Hub \n",
    " \n",
    " These will apply the secrets to the project targeted. In our case, spring-petclinic"
   ]
  },
  {
   "cell_type": "code",
   "execution_count": null,
   "metadata": {},
   "outputs": [],
   "source": [
    "mkdir tbs-config"
   ]
  },
  {
   "cell_type": "markdown",
   "metadata": {},
   "source": [
    "Create two Files:\n",
    "\n",
    "1 - Docker Hub Config name \"dockerhub-config.yml\" and fill in the details:\n",
    "\n",
    "project: node-todo\n",
    "registry: https://index.docker.io/v1/\n",
    "username: <username>\n",
    "password: <password-or-token>\n",
    "    \n",
    "    \n",
    "2 - Github Config name \"github-config.yml\" and fill in the details:    \n",
    "\n",
    "project: node-todo\n",
    "repository: github.com/sameerhashmi/node-todo\n",
    "username: <username>\n",
    "password: <password-or-token>\n",
    "    "
   ]
  },
  {
   "cell_type": "code",
   "execution_count": null,
   "metadata": {},
   "outputs": [],
   "source": [
    "cat ./tbs-config/dockerhub-config.yml"
   ]
  },
  {
   "cell_type": "code",
   "execution_count": null,
   "metadata": {},
   "outputs": [],
   "source": [
    "cat ./tbs-config/github-config.yml"
   ]
  },
  {
   "cell_type": "code",
   "execution_count": null,
   "metadata": {},
   "outputs": [],
   "source": [
    "!pb secrets"
   ]
  },
  {
   "cell_type": "code",
   "execution_count": null,
   "metadata": {},
   "outputs": [],
   "source": [
    "!pb secrets git apply -f ./tbs-config/github-config.yml"
   ]
  },
  {
   "cell_type": "code",
   "execution_count": null,
   "metadata": {},
   "outputs": [],
   "source": [
    "!pb secrets registry apply -f ./tbs-config/dockerhub-config.yml"
   ]
  },
  {
   "cell_type": "markdown",
   "metadata": {},
   "source": [
    "### Configure an Image"
   ]
  },
  {
   "cell_type": "markdown",
   "metadata": {},
   "source": [
    "\n",
    "Final step is to configure Tanzu Build Service about what code we want to monitor and build. \n",
    "\n",
    "We will add another configuration for TBS to know which App it needs to build.\n",
    "\n",
    "Create a configuration named spring-petclinic-config.yml and fill in the details:\n",
    "\n",
    "source:\n",
    "  git:\n",
    "    url: <github-url>\n",
    "    revision: master\n",
    "image:\n",
    "  tag: <docker-registry-url>\n"
   ]
  },
  {
   "cell_type": "code",
   "execution_count": null,
   "metadata": {},
   "outputs": [],
   "source": [
    "cat ./tbs-config/node-todo-config.yml"
   ]
  },
  {
   "cell_type": "markdown",
   "metadata": {},
   "source": [
    "Once the image configuration has been applied, Tanzu Build Service will scan the repo and start building your image. You can see this happening by running the pb command below to list all of the builds associated with an image tag. "
   ]
  },
  {
   "cell_type": "code",
   "execution_count": null,
   "metadata": {},
   "outputs": [],
   "source": [
    "!pb image apply -f tbs-config/node-todo-config.yml"
   ]
  },
  {
   "cell_type": "code",
   "execution_count": null,
   "metadata": {},
   "outputs": [],
   "source": [
    "!pb image builds index.docker.io/sameerhashmi/node-todo"
   ]
  },
  {
   "cell_type": "markdown",
   "metadata": {},
   "source": [
    "Verify the image in index.docker.io/sameerhashmi"
   ]
  },
  {
   "cell_type": "code",
   "execution_count": null,
   "metadata": {},
   "outputs": [],
   "source": [
    "!pb image status index.docker.io/sameerhashmi/node-todo"
   ]
  },
  {
   "cell_type": "code",
   "execution_count": null,
   "metadata": {},
   "outputs": [],
   "source": [
    "!pb image list "
   ]
  },
  {
   "cell_type": "code",
   "execution_count": null,
   "metadata": {},
   "outputs": [],
   "source": [
    "!pb project list"
   ]
  },
  {
   "cell_type": "code",
   "execution_count": null,
   "metadata": {},
   "outputs": [],
   "source": [
    "!pb project target spring-music"
   ]
  },
  {
   "cell_type": "code",
   "execution_count": null,
   "metadata": {},
   "outputs": [],
   "source": [
    "!pb image list"
   ]
  },
  {
   "cell_type": "code",
   "execution_count": null,
   "metadata": {},
   "outputs": [],
   "source": [
    "!pb image builds index.docker.io/sameerhashmi/spring-music:latest"
   ]
  },
  {
   "cell_type": "code",
   "execution_count": null,
   "metadata": {},
   "outputs": [],
   "source": []
  },
  {
   "cell_type": "code",
   "execution_count": null,
   "metadata": {},
   "outputs": [],
   "source": []
  },
  {
   "cell_type": "code",
   "execution_count": null,
   "metadata": {},
   "outputs": [],
   "source": []
  },
  {
   "cell_type": "code",
   "execution_count": null,
   "metadata": {},
   "outputs": [],
   "source": []
  },
  {
   "cell_type": "code",
   "execution_count": null,
   "metadata": {},
   "outputs": [],
   "source": []
  },
  {
   "cell_type": "code",
   "execution_count": null,
   "metadata": {},
   "outputs": [],
   "source": []
  },
  {
   "cell_type": "code",
   "execution_count": null,
   "metadata": {},
   "outputs": [],
   "source": []
  },
  {
   "cell_type": "code",
   "execution_count": null,
   "metadata": {},
   "outputs": [],
   "source": []
  },
  {
   "cell_type": "code",
   "execution_count": null,
   "metadata": {},
   "outputs": [],
   "source": []
  },
  {
   "cell_type": "code",
   "execution_count": null,
   "metadata": {},
   "outputs": [],
   "source": []
  },
  {
   "cell_type": "code",
   "execution_count": null,
   "metadata": {},
   "outputs": [],
   "source": []
  },
  {
   "cell_type": "code",
   "execution_count": null,
   "metadata": {},
   "outputs": [],
   "source": []
  },
  {
   "cell_type": "code",
   "execution_count": null,
   "metadata": {},
   "outputs": [],
   "source": []
  }
 ],
 "metadata": {
  "kernelspec": {
   "display_name": "Python 3",
   "language": "python",
   "name": "python3"
  },
  "language_info": {
   "codemirror_mode": {
    "name": "ipython",
    "version": 3
   },
   "file_extension": ".py",
   "mimetype": "text/x-python",
   "name": "python",
   "nbconvert_exporter": "python",
   "pygments_lexer": "ipython3",
   "version": "3.7.4"
  }
 },
 "nbformat": 4,
 "nbformat_minor": 2
}
