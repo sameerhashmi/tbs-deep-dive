{
 "cells": [
  {
   "cell_type": "markdown",
   "metadata": {},
   "source": [
    "# Tanzu Build Service - SE Enablement Session"
   ]
  },
  {
   "cell_type": "markdown",
   "metadata": {},
   "source": [
    "## TBS Installation\n",
    "\n",
    "- Automated - Using PBSETUP on GKE\n",
    "- Manual    - On PKS\n"
   ]
  },
  {
   "cell_type": "markdown",
   "metadata": {},
   "source": [
    "### Automated - Using pbsetup on GKE"
   ]
  },
  {
   "cell_type": "markdown",
   "metadata": {},
   "source": [
    "Use the following steps to setup TBS: https://github.com/mcnichol/build-service-lab"
   ]
  },
  {
   "cell_type": "markdown",
   "metadata": {},
   "source": [
    "### Manual Setup - PKS"
   ]
  },
  {
   "cell_type": "code",
   "execution_count": null,
   "metadata": {},
   "outputs": [],
   "source": [
    "!pks login -u admin -p mEPoeWXsXC75IIP64dvbQUO4CEL-Xytr -a api.pks.ferndale.cf-app.com -k"
   ]
  },
  {
   "cell_type": "code",
   "execution_count": null,
   "metadata": {},
   "outputs": [],
   "source": [
    "!pks plans"
   ]
  },
  {
   "cell_type": "code",
   "execution_count": null,
   "metadata": {},
   "outputs": [],
   "source": [
    "!pks create-cluster tbs-cluster --external-hostname tbs-cluster.ferndale.cf-app.com --plan small"
   ]
  },
  {
   "cell_type": "code",
   "execution_count": null,
   "metadata": {},
   "outputs": [],
   "source": [
    "!pks clusters"
   ]
  },
  {
   "cell_type": "code",
   "execution_count": null,
   "metadata": {},
   "outputs": [],
   "source": [
    "!pks get-credentials ferndale-pks-cluster-1"
   ]
  },
  {
   "cell_type": "code",
   "execution_count": null,
   "metadata": {},
   "outputs": [],
   "source": [
    "!pks cluster ferndale-pks-cluster-1"
   ]
  },
  {
   "cell_type": "code",
   "execution_count": null,
   "metadata": {},
   "outputs": [],
   "source": [
    "!kubectl get nodes"
   ]
  },
  {
   "cell_type": "code",
   "execution_count": null,
   "metadata": {},
   "outputs": [],
   "source": [
    "!kubectl get po"
   ]
  },
  {
   "cell_type": "markdown",
   "metadata": {},
   "source": [
    "### Create Persistent Volume and Claim for TBS"
   ]
  },
  {
   "cell_type": "markdown",
   "metadata": {},
   "source": [
    "Persistent Volume:\n",
    "\n",
    "apiVersion: storage.k8s.io/v1\n",
    "kind: StorageClass\n",
    "metadata:\n",
    "  name: fast\n",
    "  annotations:\n",
    "    storageclass.kubernetes.io/is-default-class: \"true\"\n",
    "provisioner: kubernetes.io/vsphere-volume\n",
    "parameters:\n",
    "  datastore: datastore1\n",
    "  diskformat: thin\n",
    "  fstype: ext3\n"
   ]
  },
  {
   "cell_type": "raw",
   "metadata": {},
   "source": [
    "Persistent Volume Claim leveraging the above volume:\n",
    "\n",
    "kind: PersistentVolumeClaim\n",
    "apiVersion: v1\n",
    "metadata:\n",
    "  name: pvcsc001\n",
    "  annotations:\n",
    "    volume.beta.kubernetes.io/storage-class: fast\n",
    "spec:\n",
    "  accessModes:\n",
    "    - ReadWriteOnce\n",
    "  resources:\n",
    "    requests:\n",
    "      storage: 2Gi\n"
   ]
  },
  {
   "cell_type": "code",
   "execution_count": null,
   "metadata": {},
   "outputs": [],
   "source": [
    "!pwd"
   ]
  },
  {
   "cell_type": "code",
   "execution_count": null,
   "metadata": {},
   "outputs": [],
   "source": [
    "!kubectl get StorageClasses"
   ]
  },
  {
   "cell_type": "code",
   "execution_count": null,
   "metadata": {},
   "outputs": [],
   "source": [
    "!kubectl apply -f tmp/tbs-pcv.yaml"
   ]
  },
  {
   "cell_type": "code",
   "execution_count": null,
   "metadata": {},
   "outputs": [],
   "source": [
    "!kubectl get pv"
   ]
  },
  {
   "cell_type": "code",
   "execution_count": null,
   "metadata": {},
   "outputs": [],
   "source": [
    "!kubectl get pvc"
   ]
  },
  {
   "cell_type": "markdown",
   "metadata": {},
   "source": [
    "### Download TBS tgz, pb cli and duffle cli from PivNet"
   ]
  },
  {
   "cell_type": "code",
   "execution_count": null,
   "metadata": {},
   "outputs": [],
   "source": [
    "!duffle version"
   ]
  },
  {
   "cell_type": "code",
   "execution_count": null,
   "metadata": {},
   "outputs": [],
   "source": [
    "!pb version"
   ]
  },
  {
   "cell_type": "code",
   "execution_count": null,
   "metadata": {},
   "outputs": [],
   "source": [
    "ls ./tmp"
   ]
  },
  {
   "cell_type": "code",
   "execution_count": null,
   "metadata": {},
   "outputs": [],
   "source": [
    "!docker login docker.io"
   ]
  },
  {
   "cell_type": "markdown",
   "metadata": {},
   "source": [
    "Give the **path** where you have downloaded build-service-0.1.0.tgz or run it from that location"
   ]
  },
  {
   "cell_type": "code",
   "execution_count": null,
   "metadata": {},
   "outputs": [],
   "source": [
    "!duffle relocate -f ./tmp/build-service-0.1.0.tgz -m ./tmp/relocated.json --repository-prefix=sameerhashmi"
   ]
  },
  {
   "cell_type": "markdown",
   "metadata": {},
   "source": [
    "Once you run the above command, **relocated.json** will be created and a builder package will be created inside your DockerHub Repository."
   ]
  },
  {
   "cell_type": "markdown",
   "metadata": {},
   "source": [
    "![HARBOR-Buildservice](img/dockerhub-snapshot.png)"
   ]
  },
  {
   "cell_type": "markdown",
   "metadata": {},
   "source": [
    "### Install Build Service"
   ]
  },
  {
   "cell_type": "code",
   "execution_count": null,
   "metadata": {},
   "outputs": [],
   "source": [
    "ls tmp"
   ]
  },
  {
   "cell_type": "markdown",
   "metadata": {},
   "source": [
    "#### As above in the directory above where you have the following:\n",
    "\n",
    "- build-service-credentials.yml\n",
    "- buildserver tar file (build-service.0.1.0.tgz)\n",
    "- relocated.json (generated in the above steps)\n",
    "\n",
    "Fill out the remaining as per your environment and run the duffle command:\n",
    "\n",
    "\n",
    "duffle install pbs-demo -c ./tmp/build-service-credentials.yml  \\\n",
    "    --set kubernetes_env=<k8s-cluster-name> \\\n",
    "    --set docker_registry=<DOCKER_REGISTRY> \\\n",
    "    --set docker_repository=<DOCKER_REPO> \\\n",
    "    --set registry_username=<REGISTYRY_USER_NAME> \\\n",
    "    --set registry_password=<REGISTYRY_PASSWORD> \\\n",
    "    --set custom_builder_image=default-builder \\\n",
    "    -f ./tmp/build-service-0.1.0.tgz \\\n",
    "    -m ./tmp/relocated.json\n",
    "\n",
    "\n",
    "Avoiding duffle error: claim already exists\n",
    "If an install fails or if you prefer to reset your Kubernetes cluster rather than uninstalling, you can remove existing duffle claims by deleting the files in ~/.duffle/claims. This will allow you to re-install without encountering the “claim already exists” error.\n",
    "\n"
   ]
  },
  {
   "cell_type": "code",
   "execution_count": 52,
   "metadata": {},
   "outputs": [
    {
     "name": "stdout",
     "output_type": "stream",
     "text": [
      "Executing install action...\n",
      "Installing Pivotal Build Service for pbs-demo\n",
      "+------------------+\n",
      "| Template Webhook |\n",
      "+------------------+\n",
      "No proxies were provided\n",
      "1+0 records in\n",
      "1+0 records out\n",
      "256 bytes copied, 9.11e-05 s, 2.8 MB/s\n",
      "Generating a RSA private key\n",
      ".+++++\n",
      "...+++++\n",
      "writing new private key to 'ca.key'\n",
      "-----\n",
      "Generating RSA private key, 2048 bit long modulus (2 primes)\n",
      "........................................................................................+++++\n",
      "......+++++\n",
      "e is 65537 (0x010001)\n",
      "Signature ok\n",
      "subject=CN = webhook-server.build-service.svc\n",
      "Getting CA Private Key\n",
      " -- Templating Pod Webhook --\n",
      "+----------------+\n",
      "| Template kpack |\n",
      "+----------------+\n",
      " -- Templatize kpack --\n",
      "+------------------+\n",
      "| Template Build Service |\n",
      "+------------------+\n",
      " -- Template Build Service --\n",
      "+------------------------+\n",
      "| Template Secret Syncer |\n",
      "+------------------------+\n",
      " -- Templating secret syncer --\n",
      "+-----------------------+\n",
      "| Template Smart Warmer |\n",
      "+-----------------------+\n",
      " -- Templating smart warmer --\n",
      "+---------------------------+\n",
      "| Template Project Operator |\n",
      "+---------------------------+\n",
      "1+0 records in\n",
      "1+0 records out\n",
      "256 bytes copied, 0.0001992 s, 1.3 MB/s\n",
      "Generating a RSA private key\n",
      "...................................+++++\n",
      "............................................+++++\n",
      "writing new private key to 'ca.key'\n",
      "-----\n",
      "Generating RSA private key, 2048 bit long modulus (2 primes)\n",
      ".....................................................................................................+++++\n",
      ".........................+++++\n",
      "e is 65537 (0x010001)\n",
      "Signature ok\n",
      "subject=CN = projects-projects-operator-webhook.project-operator.svc\n",
      "Getting CA Private Key\n",
      " -- Templating project operator --\n",
      "+-----------------------+\n",
      "| Install Build Service |\n",
      "+-----------------------+\n",
      " -- Install Build Service --\n",
      "Changes\n",
      "\n",
      "Namespace         Name                                                    Kind                            Conds.  Age  Op      Wait to    Rs       Ri  \n",
      "(cluster)         build-service                                           Namespace                       -       -    create  reconcile  -        -  \n",
      "^                 build-service-webhook                                   MutatingWebhookConfiguration    -       19h  update  reconcile  ok       -  \n",
      "^                 kpack                                                   Namespace                       -       -    create  reconcile  -        -  \n",
      "^                 project-access-operator-webhook-configuration           MutatingWebhookConfiguration    -       19h  update  reconcile  ok       -  \n",
      "^                 project-create-projects-operator-webhook-config         MutatingWebhookConfiguration    -       19h  update  reconcile  ok       -  \n",
      "^                 project-operator                                        Namespace                       -       -    create  reconcile  -        -  \n",
      "^                 projectaccesses.projects.pivotal.io                     CustomResourceDefinition        0/0 t   19h  -       reconcile  ongoing  No conditions found  \n",
      "^                 projects-projects-operator-webhook-configuration        ValidatingWebhookConfiguration  -       19h  update  reconcile  ok       -  \n",
      "^                 projects.projects.pivotal.io                            CustomResourceDefinition        0/0 t   19h  -       reconcile  ongoing  No conditions found  \n",
      "^                 resource.webhook.kpack.pivotal.io                       MutatingWebhookConfiguration    -       19h  update  reconcile  ok       -  \n",
      "build-service     build-service-smart-warmer-namespace-role               Role                            -       -    create  reconcile  -        -  \n",
      "^                 build-service-smart-warmer-namespace-role-binding       RoleBinding                     -       -    create  reconcile  -        -  \n",
      "^                 ccb-service-account                                     ServiceAccount                  -       -    create  reconcile  -        -  \n",
      "^                 oidc-prefix-config                                      ConfigMap                       -       -    create  reconcile  -        -  \n",
      "^                 pb-authenticated-oidc-prefix-config-role                Role                            -       -    create  reconcile  -        -  \n",
      "^                 pb-authenticated-oidc-prefix-config-role-binding        RoleBinding                     -       -    create  reconcile  -        -  \n",
      "^                 private-registry-secret                                 Secret                          -       -    create  reconcile  -        -  \n",
      "^                 secret-syncer-controller                                Deployment                      -       -    create  reconcile  -        -  \n",
      "^                 secret-syncer-service-account                           ServiceAccount                  -       -    create  reconcile  -        -  \n",
      "^                 smart-warmer-controller                                 Deployment                      -       -    create  reconcile  -        -  \n",
      "^                 smart-warmer-image-fetcher                              DaemonSet                       -       -    create  -          -        -  \n",
      "^                 smart-warmer-service-account                            ServiceAccount                  -       -    create  reconcile  -        -  \n",
      "^                 webhook-server                                          Deployment                      -       -    create  reconcile  -        -  \n",
      "^                 webhook-server                                          Service                         -       -    create  reconcile  -        -  \n",
      "^                 webhook-server-ca-cert                                  ConfigMap                       -       -    create  reconcile  -        -  \n",
      "^                 webhook-server-tls                                      Secret                          -       -    create  reconcile  -        -  \n",
      "kpack             build-pod-image-fetcher                                 DaemonSet                       -       -    create  reconcile  -        -  \n",
      "^                 controller                                              ServiceAccount                  -       -    create  reconcile  -        -  \n",
      "^                 kpack-controller                                        Deployment                      -       -    create  reconcile  -        -  \n",
      "^                 kpack-webhook                                           Deployment                      -       -    create  reconcile  -        -  \n",
      "^                 kpack-webhook                                           Service                         -       -    create  reconcile  -        -  \n",
      "^                 kpack-webhook-certs-admin                               Role                            -       -    create  reconcile  -        -  \n",
      "^                 kpack-webhook-certs-admin-binding                       RoleBinding                     -       -    create  reconcile  -        -  \n",
      "^                 private-registry-secret                                 Secret                          -       -    create  reconcile  -        -  \n",
      "^                 webhook                                                 ServiceAccount                  -       -    create  reconcile  -        -  \n",
      "project-operator  private-registry-secret                                 Secret                          -       -    create  reconcile  -        -  \n",
      "^                 projects-projects-operator                              Deployment                      -       -    create  reconcile  -        -  \n",
      "^                 projects-projects-operator                              Service                         -       -    create  reconcile  -        -  \n",
      "^                 projects-projects-operator-leader-election-role         Role                            -       -    create  reconcile  -        -  \n",
      "^                 projects-projects-operator-leader-election-rolebinding  RoleBinding                     -       -    create  reconcile  -        -  \n",
      "^                 projects-projects-operator-webhook                      Deployment                      -       -    create  reconcile  -        -  \n",
      "^                 projects-projects-operator-webhook                      Service                         -       -    create  reconcile  -        -  \n",
      "^                 projects-projects-operator-webhook-cert                 Secret                          -       -    create  reconcile  -        -  \n",
      "\n",
      "Op:      36 create, 0 delete, 5 update, 2 noop\n",
      "Wait to: 42 reconcile, 0 delete, 1 noop\n"
     ]
    },
    {
     "name": "stdout",
     "output_type": "stream",
     "text": [
      "\n",
      "4:16:21PM: ---- applying 10 changes [0/43 done] ----\n",
      "4:16:21PM: create namespace/build-service (v1) cluster\n",
      "4:16:21PM: create namespace/kpack (v1) cluster\n",
      "4:16:21PM: update mutatingwebhookconfiguration/resource.webhook.kpack.pivotal.io (admissionregistration.k8s.io/v1beta1) cluster\n",
      "4:16:21PM: update mutatingwebhookconfiguration/build-service-webhook (admissionregistration.k8s.io/v1beta1) cluster\n",
      "4:16:21PM: noop customresourcedefinition/projectaccesses.projects.pivotal.io (apiextensions.k8s.io/v1beta1) cluster\n",
      "4:16:21PM: noop customresourcedefinition/projects.projects.pivotal.io (apiextensions.k8s.io/v1beta1) cluster\n",
      "4:16:21PM: create namespace/project-operator (v1) cluster\n",
      "4:16:21PM: update mutatingwebhookconfiguration/project-access-operator-webhook-configuration (admissionregistration.k8s.io/v1beta1) cluster\n",
      "4:16:21PM: update mutatingwebhookconfiguration/project-create-projects-operator-webhook-config (admissionregistration.k8s.io/v1beta1) cluster\n",
      "4:16:21PM: update validatingwebhookconfiguration/projects-projects-operator-webhook-configuration (admissionregistration.k8s.io/v1beta1) cluster\n",
      "4:16:22PM: ---- waiting on 10 changes [0/43 done] ----\n",
      "4:16:22PM: ok: reconcile namespace/build-service (v1) cluster\n",
      "4:16:23PM: ok: reconcile namespace/kpack (v1) cluster\n",
      "4:16:23PM: ok: reconcile mutatingwebhookconfiguration/resource.webhook.kpack.pivotal.io (admissionregistration.k8s.io/v1beta1) cluster\n",
      "4:16:24PM: ok: reconcile mutatingwebhookconfiguration/build-service-webhook (admissionregistration.k8s.io/v1beta1) cluster\n",
      "4:16:24PM: ok: reconcile customresourcedefinition/projectaccesses.projects.pivotal.io (apiextensions.k8s.io/v1beta1) cluster\n",
      "4:16:24PM: ok: reconcile customresourcedefinition/projects.projects.pivotal.io (apiextensions.k8s.io/v1beta1) cluster\n",
      "4:16:25PM: ok: reconcile namespace/project-operator (v1) cluster\n",
      "4:16:25PM: ok: reconcile mutatingwebhookconfiguration/project-access-operator-webhook-configuration (admissionregistration.k8s.io/v1beta1) cluster\n",
      "4:16:25PM: ok: reconcile mutatingwebhookconfiguration/project-create-projects-operator-webhook-config (admissionregistration.k8s.io/v1beta1) cluster\n",
      "4:16:26PM: ok: reconcile validatingwebhookconfiguration/projects-projects-operator-webhook-configuration (admissionregistration.k8s.io/v1beta1) cluster\n",
      "4:16:26PM: ---- applying 30 changes [10/43 done] ----\n",
      "4:16:26PM: create serviceaccount/ccb-service-account (v1) namespace: build-service\n",
      "4:16:26PM: create configmap/oidc-prefix-config (v1) namespace: build-service\n",
      "4:16:26PM: create role/pb-authenticated-oidc-prefix-config-role (rbac.authorization.k8s.io/v1) namespace: build-service\n",
      "4:16:26PM: create rolebinding/pb-authenticated-oidc-prefix-config-role-binding (rbac.authorization.k8s.io/v1) namespace: build-service\n",
      "4:16:26PM: create secret/private-registry-secret (v1) namespace: build-service\n",
      "4:16:26PM: create daemonset/build-pod-image-fetcher (apps/v1) namespace: kpack\n",
      "4:16:26PM: create secret/private-registry-secret (v1) namespace: kpack\n",
      "4:16:26PM: create serviceaccount/controller (v1) namespace: kpack\n",
      "4:16:26PM: create service/kpack-webhook (v1) namespace: kpack\n",
      "4:16:26PM: create deployment/kpack-webhook (apps/v1) namespace: kpack\n",
      "4:16:26PM: create serviceaccount/webhook (v1) namespace: kpack\n",
      "4:16:26PM: create role/kpack-webhook-certs-admin (rbac.authorization.k8s.io/v1) namespace: kpack\n",
      "4:16:26PM: create rolebinding/kpack-webhook-certs-admin-binding (rbac.authorization.k8s.io/v1) namespace: kpack\n",
      "4:16:26PM: create secret/webhook-server-tls (v1) namespace: build-service\n",
      "4:16:26PM: create configmap/webhook-server-ca-cert (v1) namespace: build-service\n",
      "4:16:26PM: create deployment/webhook-server (apps/v1) namespace: build-service\n",
      "4:16:26PM: create service/webhook-server (v1) namespace: build-service\n",
      "4:16:26PM: create secret/projects-projects-operator-webhook-cert (v1) namespace: project-operator\n",
      "4:16:26PM: create role/projects-projects-operator-leader-election-role (rbac.authorization.k8s.io/v1) namespace: project-operator\n",
      "4:16:26PM: create rolebinding/projects-projects-operator-leader-election-rolebinding (rbac.authorization.k8s.io/v1) namespace: project-operator\n",
      "4:16:26PM: create service/projects-projects-operator (v1) namespace: project-operator\n",
      "4:16:26PM: create service/projects-projects-operator-webhook (v1) namespace: project-operator\n",
      "4:16:26PM: create deployment/projects-projects-operator (apps/v1) namespace: project-operator\n",
      "4:16:26PM: create deployment/projects-projects-operator-webhook (apps/v1) namespace: project-operator\n",
      "4:16:26PM: create secret/private-registry-secret (v1) namespace: project-operator\n",
      "4:16:26PM: create serviceaccount/secret-syncer-service-account (v1) namespace: build-service\n",
      "4:16:26PM: create daemonset/smart-warmer-image-fetcher (apps/v1) namespace: build-service\n",
      "4:16:26PM: create serviceaccount/smart-warmer-service-account (v1) namespace: build-service\n",
      "4:16:26PM: create role/build-service-smart-warmer-namespace-role (rbac.authorization.k8s.io/v1) namespace: build-service\n",
      "4:16:26PM: create rolebinding/build-service-smart-warmer-namespace-role-binding (rbac.authorization.k8s.io/v1) namespace: build-service\n",
      "4:16:30PM: ---- waiting on 30 changes [10/43 done] ----\n",
      "4:16:30PM: ok: reconcile serviceaccount/ccb-service-account (v1) namespace: build-service\n",
      "4:16:30PM: ok: reconcile configmap/oidc-prefix-config (v1) namespace: build-service\n",
      "4:16:31PM: ok: reconcile role/pb-authenticated-oidc-prefix-config-role (rbac.authorization.k8s.io/v1) namespace: build-service\n",
      "4:16:31PM: ok: reconcile rolebinding/pb-authenticated-oidc-prefix-config-role-binding (rbac.authorization.k8s.io/v1) namespace: build-service\n",
      "4:16:31PM: ok: reconcile secret/private-registry-secret (v1) namespace: build-service\n",
      "4:16:32PM: ongoing: reconcile daemonset/build-pod-image-fetcher (apps/v1) namespace: kpack\n",
      "4:16:32PM:  ^ Waiting for 3 unavailable pods\n",
      "4:16:32PM:  L ongoing: waiting on pod/build-pod-image-fetcher-scsnk (v1) namespace: kpack\n",
      "4:16:32PM:     ^ Pending: PodInitializing\n",
      "4:16:32PM:  L ongoing: waiting on pod/build-pod-image-fetcher-6jxnr (v1) namespace: kpack\n",
      "4:16:32PM:     ^ Pending: PodInitializing\n",
      "4:16:32PM:  L ongoing: waiting on pod/build-pod-image-fetcher-6gp5d (v1) namespace: kpack\n",
      "4:16:32PM:     ^ Pending: PodInitializing\n",
      "4:16:32PM:  L ok: waiting on controllerrevision/build-pod-image-fetcher-54497f89f6 (apps/v1) namespace: kpack\n",
      "4:16:32PM: ok: reconcile secret/private-registry-secret (v1) namespace: kpack\n",
      "4:16:33PM: ok: reconcile serviceaccount/controller (v1) namespace: kpack\n",
      "4:16:33PM: ok: reconcile service/kpack-webhook (v1) namespace: kpack\n",
      "4:16:33PM: ok: reconcile deployment/kpack-webhook (apps/v1) namespace: kpack\n",
      "4:16:34PM: ok: reconcile serviceaccount/webhook (v1) namespace: kpack\n",
      "4:16:34PM: ok: reconcile role/kpack-webhook-certs-admin (rbac.authorization.k8s.io/v1) namespace: kpack\n",
      "4:16:34PM: ok: reconcile rolebinding/kpack-webhook-certs-admin-binding (rbac.authorization.k8s.io/v1) namespace: kpack\n",
      "4:16:35PM: ok: reconcile secret/webhook-server-tls (v1) namespace: build-service\n",
      "4:16:35PM: ok: reconcile configmap/webhook-server-ca-cert (v1) namespace: build-service\n",
      "4:16:36PM: ok: reconcile deployment/webhook-server (apps/v1) namespace: build-service\n",
      "4:16:36PM: ok: reconcile service/webhook-server (v1) namespace: build-service\n",
      "4:16:36PM: ok: reconcile secret/projects-projects-operator-webhook-cert (v1) namespace: project-operator\n",
      "4:16:37PM: ok: reconcile role/projects-projects-operator-leader-election-role (rbac.authorization.k8s.io/v1) namespace: project-operator\n",
      "4:16:37PM: ok: reconcile rolebinding/projects-projects-operator-leader-election-rolebinding (rbac.authorization.k8s.io/v1) namespace: project-operator\n",
      "4:16:37PM: ok: reconcile service/projects-projects-operator (v1) namespace: project-operator\n",
      "4:16:38PM: ok: reconcile service/projects-projects-operator-webhook (v1) namespace: project-operator\n",
      "4:16:38PM: ok: reconcile deployment/projects-projects-operator (apps/v1) namespace: project-operator\n",
      "4:16:39PM: ok: reconcile deployment/projects-projects-operator-webhook (apps/v1) namespace: project-operator\n",
      "4:16:39PM: ok: reconcile secret/private-registry-secret (v1) namespace: project-operator\n",
      "4:16:39PM: ok: reconcile serviceaccount/secret-syncer-service-account (v1) namespace: build-service\n",
      "4:16:39PM: ok: noop daemonset/smart-warmer-image-fetcher (apps/v1) namespace: build-service\n"
     ]
    },
    {
     "name": "stdout",
     "output_type": "stream",
     "text": [
      "4:16:40PM: ok: reconcile serviceaccount/smart-warmer-service-account (v1) namespace: build-service\n",
      "4:16:40PM: ok: reconcile role/build-service-smart-warmer-namespace-role (rbac.authorization.k8s.io/v1) namespace: build-service\n",
      "4:16:40PM: ok: reconcile rolebinding/build-service-smart-warmer-namespace-role-binding (rbac.authorization.k8s.io/v1) namespace: build-service\n",
      "4:16:40PM: ---- applying 3 changes [40/43 done] ----\n",
      "4:16:40PM: create deployment/kpack-controller (apps/v1) namespace: kpack\n",
      "4:16:40PM: create deployment/secret-syncer-controller (apps/v1) namespace: build-service\n",
      "4:16:40PM: create deployment/smart-warmer-controller (apps/v1) namespace: build-service\n",
      "4:16:42PM: ---- waiting on 4 changes [39/43 done] ----\n",
      "4:16:42PM: ongoing: reconcile deployment/kpack-controller (apps/v1) namespace: kpack\n",
      "4:16:42PM:  ^ Waiting for 1 unavailable replicas\n",
      "4:16:42PM:  L ok: waiting on replicaset/kpack-controller-7986fb68f (apps/v1) namespace: kpack\n",
      "4:16:42PM:  L ongoing: waiting on pod/kpack-controller-7986fb68f-lx2ff (v1) namespace: kpack\n",
      "4:16:42PM:     ^ Pending: PodInitializing\n",
      "4:16:43PM: ongoing: reconcile deployment/secret-syncer-controller (apps/v1) namespace: build-service\n",
      "4:16:43PM:  ^ Waiting for 1 unavailable replicas\n",
      "4:16:43PM:  L ok: waiting on replicaset/secret-syncer-controller-6bf644968 (apps/v1) namespace: build-service\n",
      "4:16:43PM:  L ongoing: waiting on pod/secret-syncer-controller-6bf644968-fcbw4 (v1) namespace: build-service\n",
      "4:16:43PM:     ^ Pending: PodInitializing\n",
      "4:16:43PM: ongoing: reconcile deployment/smart-warmer-controller (apps/v1) namespace: build-service\n",
      "4:16:43PM:  ^ Waiting for 1 unavailable replicas\n",
      "4:16:43PM:  L ok: waiting on replicaset/smart-warmer-controller-5bdf87546c (apps/v1) namespace: build-service\n",
      "4:16:43PM:  L ongoing: waiting on pod/smart-warmer-controller-5bdf87546c-mmn7l (v1) namespace: build-service\n",
      "4:16:43PM:     ^ Pending: PodInitializing\n",
      "4:16:47PM: ok: reconcile daemonset/build-pod-image-fetcher (apps/v1) namespace: kpack\n",
      "4:16:48PM: ok: reconcile deployment/kpack-controller (apps/v1) namespace: kpack\n",
      "4:16:48PM: ok: reconcile deployment/secret-syncer-controller (apps/v1) namespace: build-service\n",
      "4:16:49PM: ok: reconcile deployment/smart-warmer-controller (apps/v1) namespace: build-service\n",
      "4:16:49PM: ---- applying complete [43/43 done] ----\n",
      "4:16:49PM: ---- waiting complete [43/43 done] ----\n",
      "\n",
      "Succeeded\n",
      "Action install complete for pbs-demo\n"
     ]
    }
   ],
   "source": [
    "!duffle install pbs-demo -c ./tmp/build-service-credentials.yml  \\\n",
    "    --set kubernetes_env=ferndale-pks-cluster-1 \\\n",
    "    --set docker_registry=index.docker.io \\\n",
    "    --set docker_repository=index.docker.io/sameerhashmi \\\n",
    "    --set registry_username=\"sameerhashmi\" \\\n",
    "    --set registry_password=\"aa59054b-a169-4398-93c8-b2219a4ef734\" \\\n",
    "    --set custom_builder_image=sameerhashmi/default-builder \\\n",
    "    -f ./tmp/build-service-0.1.0.tgz \\\n",
    "    -m ./tmp/relocated.json"
   ]
  },
  {
   "cell_type": "code",
   "execution_count": 53,
   "metadata": {},
   "outputs": [
    {
     "name": "stdout",
     "output_type": "stream",
     "text": [
      "NAME               STATUS   AGE\r\n",
      "build-service      Active   31s\r\n",
      "default            Active   22h\r\n",
      "kpack              Active   31s\r\n",
      "kube-node-lease    Active   22h\r\n",
      "kube-public        Active   22h\r\n",
      "kube-system        Active   22h\r\n",
      "pks-system         Active   22h\r\n",
      "project-operator   Active   31s\r\n"
     ]
    }
   ],
   "source": [
    "!kubectl get ns"
   ]
  },
  {
   "cell_type": "markdown",
   "metadata": {},
   "source": [
    "### Verify PBS Installation"
   ]
  },
  {
   "cell_type": "code",
   "execution_count": 54,
   "metadata": {},
   "outputs": [
    {
     "name": "stdout",
     "output_type": "stream",
     "text": [
      "CLI Version: 0.1.0 (e9b0e13a)\r\n"
     ]
    }
   ],
   "source": [
    "!pb version"
   ]
  },
  {
   "cell_type": "code",
   "execution_count": 55,
   "metadata": {},
   "outputs": [
    {
     "name": "stdout",
     "output_type": "stream",
     "text": [
      "Stack ID:    org.cloudfoundry.stacks.cflinuxfs3\r\n",
      "Run Image:   docker.io/sameerhashmi/tbs-dependencies-run-fa566eed03f50368e2ff40858f61b6d5@sha256:e64856ed89a096486c9bce1590414ccb7d81542bbf56dc68e5477cf09abb3523\r\n",
      "Build Image: docker.io/sameerhashmi/tbs-dependencies-build-adb6d35d10815f4cc483514bca657e8c@sha256:111ab5e7ab965dc43d839dbc02413f2fcfac784b407d8b4808d9c905080b8d65\r\n"
     ]
    }
   ],
   "source": [
    "!pb stack status"
   ]
  },
  {
   "cell_type": "code",
   "execution_count": 56,
   "metadata": {},
   "outputs": [
    {
     "name": "stdout",
     "output_type": "stream",
     "text": [
      "docker.io/sameerhashmi/tbs-dependencies-iopivotaljava-0730e66a380a80f8e40e4d814dd3c4c2@sha256:24dda610b7772cbce580296c4ad2c80510c8363ae2b3614458fb76c664c34393\r\n",
      "    - io.pivotal.appdynamics@1.2.15\r\n",
      "    - io.pivotal.aspectj@1.1.12\r\n",
      "    - io.pivotal.azureapplicationinsights@1.1.12\r\n",
      "    - io.pivotal.buildsystem@1.1.15\r\n",
      "    - io.pivotal.caintroscope@1.1.12\r\n",
      "    - io.pivotal.clientcertificatemapper@1.1.12\r\n",
      "    - io.pivotal.containersecurityprovider@1.1.11\r\n",
      "    - io.pivotal.contrastsecurity@0.2.18\r\n",
      "    - io.pivotal.debug@1.2.11\r\n",
      "    - io.pivotal.distzip@1.1.12\r\n",
      "    - io.pivotal.dynatrace@0.1.12\r\n",
      "    - io.pivotal.elasticapm@1.1.13\r\n",
      "    - io.pivotal.gemalto@1.1.11\r\n",
      "    - io.pivotal.googlestackdriver@1.1.11\r\n",
      "    - io.pivotal.groovy@1.1.14\r\n",
      "    - io.pivotal.jacoco@1.1.11\r\n",
      "    - io.pivotal.java@v2.1.272\r\n",
      "    - io.pivotal.jdbc@1.1.13\r\n",
      "    - io.pivotal.jmx@1.1.12\r\n",
      "    - io.pivotal.jprofiler@1.1.13\r\n",
      "    - io.pivotal.jrebel@1.1.11\r\n",
      "    - io.pivotal.jvmapplication@1.1.13\r\n",
      "    - io.pivotal.newrelic@1.1.16\r\n",
      "    - io.pivotal.openjdk@1.2.14\r\n",
      "    - io.pivotal.overops@1.1.12\r\n",
      "    - io.pivotal.procfile@1.1.13\r\n",
      "    - io.pivotal.qualys@0.1.12\r\n",
      "    - io.pivotal.riverbedappinternals@1.1.12\r\n",
      "    - io.pivotal.skywalking@1.1.12\r\n",
      "    - io.pivotal.snyk@1.1.12\r\n",
      "    - io.pivotal.springautoreconfiguration@1.1.12\r\n",
      "    - io.pivotal.springboot@1.3.14\r\n",
      "    - io.pivotal.synopsys@1.2.1\r\n",
      "    - io.pivotal.tomcat@1.3.18\r\n",
      "    - io.pivotal.wso2@0.1.12\r\n",
      "    - io.pivotal.yourkit@1.1.11\r\n",
      "docker.io/sameerhashmi/tbs-dependencies-iopivotalnodejs-99672f05d6de3e327c2271a75573ebbd@sha256:9036375d8196b2e4b85430fa6a57533fca82b6b703bf5e3c33b813862552339e\r\n",
      "    - io.pivotal.appdynamics@1.2.14\r\n",
      "    - io.pivotal.contrastsecurity@0.2.17\r\n",
      "    - io.pivotal.elasticapm@1.1.12\r\n",
      "    - io.pivotal.newrelic@1.1.15\r\n",
      "    - io.pivotal.nodejs@v2.0.7\r\n",
      "    - io.pivotal.packit-dynatrace@0.0.50\r\n",
      "    - io.pivotal.snyk@1.1.12\r\n",
      "    - io.pivotal.synopsys@1.2.1\r\n",
      "    - org.cloudfoundry.node-engine@0.0.163\r\n",
      "    - org.cloudfoundry.npm@0.1.3\r\n",
      "    - org.cloudfoundry.yarn-install@0.1.8\r\n",
      "docker.io/sameerhashmi/tbs-dependencies-orgcloudfoundrydotnet-core-33a0be864823d3fe8dc1eb5748a75dd5@sha256:3040b85387892618745f403f6ec56dc27bcedf79ad1e2f3e284dbd187bb0f26e\r\n",
      "    - org.cloudfoundry.dotnet-core-aspnet@0.0.118\r\n",
      "    - org.cloudfoundry.dotnet-core-build@0.0.68\r\n",
      "    - org.cloudfoundry.dotnet-core-conf@0.0.115\r\n",
      "    - org.cloudfoundry.dotnet-core-runtime@0.0.127\r\n",
      "    - org.cloudfoundry.dotnet-core-sdk@0.0.122\r\n",
      "    - org.cloudfoundry.dotnet-core@v0.0.6\r\n",
      "    - org.cloudfoundry.icu@0.0.43\r\n",
      "    - org.cloudfoundry.node-engine@0.0.158\r\n",
      "docker.io/sameerhashmi/tbs-dependencies-orgcloudfoundrygo-a6cfc491c0fb9f773e0f134cbcbbf253@sha256:7a0990e6a803d2de78fca9286106a8b39e0b1467e59ae39639565c5b6fdc95f4\r\n",
      "    - org.cloudfoundry.dep@0.0.100\r\n",
      "    - org.cloudfoundry.go-compiler@0.0.99\r\n",
      "    - org.cloudfoundry.go-mod@0.0.86\r\n",
      "    - org.cloudfoundry.go@v0.0.3\r\n",
      "docker.io/sameerhashmi/tbs-dependencies-orgcloudfoundryhttpd-ac59d6711b3cf751db264096b3b37bc4@sha256:2af7dbffbee10e85ac0b279efae29052e6a1e4413d8dc781651ec22500f6aeb4\r\n",
      "    - org.cloudfoundry.httpd@0.0.21\r\n",
      "docker.io/sameerhashmi/tbs-dependencies-orgcloudfoundrynginx-da453c5e7a4c5b663ec80f8a3616086b@sha256:c4b946176136099bb222c496483130a4357fb09ab9c0e306288a20eb0d4d06c3\r\n",
      "    - org.cloudfoundry.nginx@0.0.25\r\n",
      "docker.io/sameerhashmi/tbs-dependencies-orgcloudfoundryphp-4af5bbe7bf7c138e8e07d077603edfd3@sha256:ca978f8cdd11afc6aab1d38396e34daa9546a51019ce0660409238d10fb12205\r\n",
      "    - org.cloudfoundry.httpd@0.0.21\r\n",
      "    - org.cloudfoundry.nginx@0.0.25\r\n",
      "    - org.cloudfoundry.php-composer@0.0.16\r\n",
      "    - org.cloudfoundry.php-dist@0.0.30\r\n",
      "    - org.cloudfoundry.php-web@0.0.24\r\n",
      "    - org.cloudfoundry.php@v0.0.0-RC1\r\n",
      "docker.io/sameerhashmi/tbs-dependencies-orgcloudfoundrypython-c087aa5a901f1793071d401a258ca63b@sha256:5e8c3821367bf766fc7710efdf42fa37f9384cfbd185b4bea6d9c066c33a19a2\r\n",
      "    - org.cloudfoundry.conda@0.0.37\r\n",
      "    - org.cloudfoundry.pip@0.0.53\r\n",
      "    - org.cloudfoundry.pipenv@0.0.38\r\n",
      "    - org.cloudfoundry.python-runtime@0.0.57\r\n",
      "    - org.cloudfoundry.python@v0.0.1\r\n"
     ]
    }
   ],
   "source": [
    "!pb store list"
   ]
  },
  {
   "cell_type": "markdown",
   "metadata": {},
   "source": [
    "### Test PBS Service"
   ]
  },
  {
   "cell_type": "markdown",
   "metadata": {},
   "source": [
    "Fork the repo https://github.com/migmartri/node-todo"
   ]
  },
  {
   "cell_type": "markdown",
   "metadata": {},
   "source": [
    "clone the repo: git@github.com:sameerhashmi/node-todo.git"
   ]
  },
  {
   "cell_type": "markdown",
   "metadata": {},
   "source": [
    "Create a project in TBS:\n",
    "\n",
    "Creating a project will also create a namespace in your Kubernetes cluster where your local image will run. "
   ]
  },
  {
   "cell_type": "code",
   "execution_count": 57,
   "metadata": {},
   "outputs": [
    {
     "name": "stdout",
     "output_type": "stream",
     "text": [
      "Successfully created project 'node-todo'\r\n"
     ]
    }
   ],
   "source": [
    "!pb project create node-todo"
   ]
  },
  {
   "cell_type": "code",
   "execution_count": 58,
   "metadata": {},
   "outputs": [
    {
     "name": "stdout",
     "output_type": "stream",
     "text": [
      "NAME               STATUS   AGE\r\n",
      "build-service      Active   4m57s\r\n",
      "default            Active   22h\r\n",
      "kpack              Active   4m57s\r\n",
      "kube-node-lease    Active   22h\r\n",
      "kube-public        Active   22h\r\n",
      "kube-system        Active   22h\r\n",
      "node-todo          Active   4m9s\r\n",
      "pks-system         Active   22h\r\n",
      "project-operator   Active   4m57s\r\n"
     ]
    }
   ],
   "source": [
    "!kubectl get ns"
   ]
  },
  {
   "cell_type": "markdown",
   "metadata": {},
   "source": [
    "Target the Project:\n",
    "\n",
    "By targeting, this means that all subsequent pb commands will be against this project, including configuring secrets and adding users. \n"
   ]
  },
  {
   "cell_type": "code",
   "execution_count": 59,
   "metadata": {},
   "outputs": [
    {
     "name": "stdout",
     "output_type": "stream",
     "text": [
      "Successfully set 'node-todo' as target. Subsequent commands will assume you are targeting 'node-todo'.\r\n"
     ]
    }
   ],
   "source": [
    "!pb project target node-todo"
   ]
  },
  {
   "cell_type": "markdown",
   "metadata": {},
   "source": [
    "### Configure Secrets\n",
    "\n",
    " - Github Repo\n",
    " - Docker Hub \n",
    " \n",
    " These will apply the secrets to the project targeted. In our case, node-todo."
   ]
  },
  {
   "cell_type": "code",
   "execution_count": 60,
   "metadata": {},
   "outputs": [
    {
     "name": "stdout",
     "output_type": "stream",
     "text": [
      "Notes                                   \u001b[1m\u001b[36mimg\u001b[m\u001b[m/\r\n",
      "README.md                               \u001b[1m\u001b[36msetup\u001b[m\u001b[m/\r\n",
      "TBS-SE-Session.ipynb                    \u001b[1m\u001b[36mtbs-app\u001b[m\u001b[m/\r\n",
      "Tanzu Build Service Installation.ipynb  \u001b[1m\u001b[36mtmp\u001b[m\u001b[m/\r\n",
      "\u001b[1m\u001b[36mconfig\u001b[m\u001b[m/\r\n"
     ]
    }
   ],
   "source": [
    "ls"
   ]
  },
  {
   "cell_type": "code",
   "execution_count": 61,
   "metadata": {},
   "outputs": [
    {
     "name": "stdout",
     "output_type": "stream",
     "text": [
      "Successfully created git secret for 'github.com/sameerhashmi/node-todo' in project 'node-todo'\r\n"
     ]
    }
   ],
   "source": [
    "!pb secrets git apply -f config/github-config.yml"
   ]
  },
  {
   "cell_type": "code",
   "execution_count": 62,
   "metadata": {},
   "outputs": [
    {
     "name": "stdout",
     "output_type": "stream",
     "text": [
      "Successfully created registry secret for 'https://index.docker.io/v1/' in project 'node-todo'\r\n"
     ]
    }
   ],
   "source": [
    "!pb secrets registry apply -f config/dockerhub-config.yml"
   ]
  },
  {
   "cell_type": "markdown",
   "metadata": {},
   "source": [
    "### Configure an Image\n",
    "\n",
    "So now our Tanzu Build Service project knows about the two systems it needs to talk to. The last step is to tell Tanzu Build Service about what code we want to monitor and build. The sample app we are using is node-todo. The image config is located in the images directory of the GitHub project.\n",
    "\n",
    "Here we are telling Tanzu Build Service where to retrieve the source code. This is configured to watch the master branch, but you can configure it to watch your own development branch for whatever feature or bug you happen to be working on. Finally, the tag is where the image will be pushed in your registry. Modify this file to address your own image.\n",
    "\n"
   ]
  },
  {
   "cell_type": "code",
   "execution_count": null,
   "metadata": {},
   "outputs": [],
   "source": []
  },
  {
   "cell_type": "code",
   "execution_count": null,
   "metadata": {},
   "outputs": [],
   "source": []
  },
  {
   "cell_type": "code",
   "execution_count": null,
   "metadata": {},
   "outputs": [],
   "source": []
  },
  {
   "cell_type": "code",
   "execution_count": null,
   "metadata": {},
   "outputs": [],
   "source": []
  },
  {
   "cell_type": "code",
   "execution_count": null,
   "metadata": {},
   "outputs": [],
   "source": []
  },
  {
   "cell_type": "code",
   "execution_count": null,
   "metadata": {},
   "outputs": [],
   "source": []
  },
  {
   "cell_type": "code",
   "execution_count": null,
   "metadata": {},
   "outputs": [],
   "source": []
  },
  {
   "cell_type": "code",
   "execution_count": null,
   "metadata": {},
   "outputs": [],
   "source": []
  },
  {
   "cell_type": "code",
   "execution_count": null,
   "metadata": {},
   "outputs": [],
   "source": []
  },
  {
   "cell_type": "code",
   "execution_count": null,
   "metadata": {},
   "outputs": [],
   "source": []
  },
  {
   "cell_type": "code",
   "execution_count": null,
   "metadata": {},
   "outputs": [],
   "source": []
  },
  {
   "cell_type": "markdown",
   "metadata": {},
   "source": [
    "Clean Up"
   ]
  },
  {
   "cell_type": "markdown",
   "metadata": {},
   "source": [
    "Remove an existing claim"
   ]
  },
  {
   "cell_type": "code",
   "execution_count": 51,
   "metadata": {},
   "outputs": [
    {
     "name": "stdout",
     "output_type": "stream",
     "text": [
      "rm: /Users/shashmi/.duffle/claims/pbs-demo.json: No such file or directory\r\n"
     ]
    }
   ],
   "source": [
    "rm ~/.duffle/claims/pbs-demo.json"
   ]
  },
  {
   "cell_type": "code",
   "execution_count": null,
   "metadata": {},
   "outputs": [],
   "source": []
  }
 ],
 "metadata": {
  "kernelspec": {
   "display_name": "Python 3",
   "language": "python",
   "name": "python3"
  },
  "language_info": {
   "codemirror_mode": {
    "name": "ipython",
    "version": 3
   },
   "file_extension": ".py",
   "mimetype": "text/x-python",
   "name": "python",
   "nbconvert_exporter": "python",
   "pygments_lexer": "ipython3",
   "version": "3.7.4"
  }
 },
 "nbformat": 4,
 "nbformat_minor": 2
}
